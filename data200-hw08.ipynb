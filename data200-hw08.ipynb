{
 "cells": [
  {
   "cell_type": "markdown",
   "metadata": {},
   "source": [
    "# Data 200: Database Systems and Data Management for Data Analytics\n"
   ]
  },
  {
   "cell_type": "markdown",
   "metadata": {},
   "source": [
    "# Homework 8: Introduction to SQL part 2\n",
    "\n",
    "**Dickinson College**<br/>\n",
    "**Spring 2022**<br/>\n",
    "**Instructor:** Dick Forrester<br/>\n",
    "<font color='red'>**Due Date and Time:** 11:59pm on Thursday, 3/24/2022 </font>\n",
    "---\n",
    "Enter your name in the markdown cell below."
   ]
  },
  {
   "cell_type": "markdown",
   "metadata": {},
   "source": [
    "# Name:"
   ]
  },
  {
   "cell_type": "code",
   "execution_count": 1,
   "metadata": {},
   "outputs": [
    {
     "data": {
      "text/html": [
       "<style>\n",
       "blockquote { background: #AEDE94; }\n",
       "h1 { \n",
       "    padding-top: 25px;\n",
       "    padding-bottom: 25px;\n",
       "    text-align: left; \n",
       "    padding-left: 10px;\n",
       "    background-color: #DDDDDD; \n",
       "    color: black;\n",
       "}\n",
       "h2 { \n",
       "    padding-top: 10px;\n",
       "    padding-bottom: 10px;\n",
       "    text-align: left; \n",
       "    padding-left: 5px;\n",
       "    background-color: #EEEEEE; \n",
       "    color: black;\n",
       "}\n",
       "\n",
       "div.exercise {\n",
       "\tbackground-color: #ffcccc;\n",
       "\tborder-color: #E9967A; \t\n",
       "\tborder-left: 5px solid #800080; \n",
       "\tpadding: 0.5em;\n",
       "}\n",
       "\n",
       "div.exercise-r {\n",
       "\tbackground-color: #fce8e8;\n",
       "\tborder-color: #E9967A; \t\n",
       "\tborder-left: 5px solid #800080; \n",
       "\tpadding: 0.5em;\n",
       "}\n",
       "\n",
       "\n",
       "span.sub-q {\n",
       "\tfont-weight: bold;\n",
       "}\n",
       "div.theme {\n",
       "\tbackground-color: #DDDDDD;\n",
       "\tborder-color: #E9967A; \t\n",
       "\tborder-left: 5px solid #800080; \n",
       "\tpadding: 0.5em;\n",
       "\tfont-size: 18pt;\n",
       "}\n",
       "div.gc { \n",
       "\tbackground-color: #AEDE94;\n",
       "\tborder-color: #E9967A; \t \n",
       "\tborder-left: 5px solid #800080; \n",
       "\tpadding: 0.5em;\n",
       "\tfont-size: 12pt;\n",
       "}\n",
       "p.q1 { \n",
       "    padding-top: 5px;\n",
       "    padding-bottom: 5px;\n",
       "    text-align: left; \n",
       "    padding-left: 5px;\n",
       "    background-color: #EEEEEE; \n",
       "    color: black;\n",
       "}\n",
       "header {\n",
       "   padding-top: 35px;\n",
       "    padding-bottom: 35px;\n",
       "    text-align: left; \n",
       "    padding-left: 10px;\n",
       "    background-color: #DDDDDD; \n",
       "    color: black;\n",
       "}\n",
       "</style>\n",
       "\n"
      ],
      "text/plain": [
       "<IPython.core.display.HTML object>"
      ]
     },
     "execution_count": 1,
     "metadata": {},
     "output_type": "execute_result"
    }
   ],
   "source": [
    "## RUN THIS CELL TO GET THE RIGHT FORMATTING AND TO LOAD NumPy\n",
    "import requests\n",
    "import numpy as np\n",
    "from IPython.core.display import HTML\n",
    "styles = requests.get(\"https://raw.githubusercontent.com/Harvard-IACS/2018-CS109A/master/content/styles/cs109.css\").text\n",
    "HTML(styles)"
   ]
  },
  {
   "cell_type": "markdown",
   "metadata": {},
   "source": [
    "# Tasks\n",
    "\n",
    "- **Make sure you have installed SQL Magic before beginning**--see pages 177-179 in the Course Notes.\n",
    "- Review pages 203-232 in the Course Notes.\n",
    "- Complete the **Sorting and Grouping** and **Aggregate Functions** chapters of the **Introduction to SQL** course on DataCamp.\n",
    "- E-mail me your completed Jupyter notebook."
   ]
  },
  {
   "cell_type": "markdown",
   "metadata": {},
   "source": [
    "# Exercises"
   ]
  },
  {
   "cell_type": "markdown",
   "metadata": {},
   "source": [
    "This homework will make use of both the `book.db` and `school.db` databases, which are available under Files in Teams.  I suggest that you review pages 181-183 and 225-227 in the Course Notes to familiarize yourself with the tables in these databases.  You may also want to open the `school.db` database in SQLiteStudio to examine the tables as you work on the queries below.\n",
    "\n",
    "**Download the `book.db` and `school.db` databases from Teams and save them to the same directory as this notebook.**\n",
    "\n",
    "**Then, run the code cells below to load the SQL Magic module and connect to the `book.db` database.**"
   ]
  },
  {
   "cell_type": "code",
   "execution_count": 2,
   "metadata": {},
   "outputs": [],
   "source": [
    "%load_ext sql"
   ]
  },
  {
   "cell_type": "code",
   "execution_count": 3,
   "metadata": {},
   "outputs": [
    {
     "data": {
      "text/plain": [
       "'Connected: @book.db'"
      ]
     },
     "execution_count": 3,
     "metadata": {},
     "output_type": "execute_result"
    }
   ],
   "source": [
    "%sql sqlite:///book.db"
   ]
  },
  {
   "cell_type": "markdown",
   "metadata": {},
   "source": [
    "<div class=\"exercise\"><b>Exercise 1:</b></div> \n",
    "\n",
    "With regards to the `countries` table, select all the rows where the country is classified as `'High income'`.  Project the `code` and `country` fields, plus create a new column called `landmiles` that is the land area in square miles (note that the area in square miles is equal to the square kilometers multiplied by 0.386102).  Sort by `landmiles` in descending order and limit the results to five rows.\n",
    "\n",
    "The output from my solution is:<br>\n",
    "<code>\n",
    "code   country\t    landmiles\n",
    "USA\tUnited States  3531837.15684\n",
    "CAN\tCanada\t     3511022.39802\n",
    "AUS\tAustralia\t  2969904.30604\n",
    "SAU\tSaudi Arabia   829999.60838\n",
    "CHL\tChile\t      287079.192264\n",
    "</code>"
   ]
  },
  {
   "cell_type": "code",
   "execution_count": 4,
   "metadata": {},
   "outputs": [
    {
     "name": "stdout",
     "output_type": "stream",
     "text": [
      " * sqlite:///book.db\n",
      "Done.\n"
     ]
    },
    {
     "data": {
      "text/html": [
       "<table>\n",
       "    <thead>\n",
       "        <tr>\n",
       "            <th>code</th>\n",
       "            <th>country</th>\n",
       "            <th>landmiles</th>\n",
       "        </tr>\n",
       "    </thead>\n",
       "    <tbody>\n",
       "        <tr>\n",
       "            <td>USA</td>\n",
       "            <td>United States</td>\n",
       "            <td>3531837.15684</td>\n",
       "        </tr>\n",
       "        <tr>\n",
       "            <td>CAN</td>\n",
       "            <td>Canada</td>\n",
       "            <td>3511022.39802</td>\n",
       "        </tr>\n",
       "        <tr>\n",
       "            <td>AUS</td>\n",
       "            <td>Australia</td>\n",
       "            <td>2969904.30604</td>\n",
       "        </tr>\n",
       "        <tr>\n",
       "            <td>SAU</td>\n",
       "            <td>Saudi Arabia</td>\n",
       "            <td>829999.60838</td>\n",
       "        </tr>\n",
       "        <tr>\n",
       "            <td>CHL</td>\n",
       "            <td>Chile</td>\n",
       "            <td>287079.192264</td>\n",
       "        </tr>\n",
       "    </tbody>\n",
       "</table>"
      ],
      "text/plain": [
       "[('USA', 'United States', 3531837.15684),\n",
       " ('CAN', 'Canada', 3511022.39802),\n",
       " ('AUS', 'Australia', 2969904.30604),\n",
       " ('SAU', 'Saudi Arabia', 829999.60838),\n",
       " ('CHL', 'Chile', 287079.192264)]"
      ]
     },
     "execution_count": 4,
     "metadata": {},
     "output_type": "execute_result"
    }
   ],
   "source": [
    "%%sql\n",
    "/* Enter your SQL query below */\n",
    "\n",
    "SELECT code, country, land*0.386102 AS landmiles FROM countries\n",
    "WHERE income = 'High income'\n",
    "ORDER BY landmiles DESC\n",
    "LIMIT 5"
   ]
  },
  {
   "cell_type": "markdown",
   "metadata": {},
   "source": [
    "**Run the code cell below to connect to the `school.db` database.**"
   ]
  },
  {
   "cell_type": "code",
   "execution_count": 5,
   "metadata": {},
   "outputs": [
    {
     "data": {
      "text/plain": [
       "'Connected: @school.db'"
      ]
     },
     "execution_count": 5,
     "metadata": {},
     "output_type": "execute_result"
    }
   ],
   "source": [
    "%sql sqlite:///school.db"
   ]
  },
  {
   "cell_type": "markdown",
   "metadata": {},
   "source": [
    "<div class=\"exercise\"><b>Exercise 2:</b></div> \n",
    "\n",
    "In reference to the `instructors` table, select a new column `full_name` obtained as the last name, followed by a comma and a space, followed by the first name.  Order alphabetically and limit the results to five rows.\n",
    "\n",
    "The output from my solution is:<br>\n",
    "<code>\n",
    "full_name\n",
    "Aguilar, Stephen\n",
    "Anderson, Philip\n",
    "Arnaud, Antoine\n",
    "Austin, Stephanie\n",
    "Bailey, Jayden\n",
    "</code>"
   ]
  },
  {
   "cell_type": "code",
   "execution_count": 6,
   "metadata": {},
   "outputs": [
    {
     "name": "stdout",
     "output_type": "stream",
     "text": [
      "   sqlite:///book.db\n",
      " * sqlite:///school.db\n",
      "Done.\n"
     ]
    },
    {
     "data": {
      "text/html": [
       "<table>\n",
       "    <thead>\n",
       "        <tr>\n",
       "            <th>full_name</th>\n",
       "        </tr>\n",
       "    </thead>\n",
       "    <tbody>\n",
       "        <tr>\n",
       "            <td>Aguilar, Stephen</td>\n",
       "        </tr>\n",
       "        <tr>\n",
       "            <td>Anderson, Philip</td>\n",
       "        </tr>\n",
       "        <tr>\n",
       "            <td>Arnaud, Antoine</td>\n",
       "        </tr>\n",
       "        <tr>\n",
       "            <td>Austin, Stephanie</td>\n",
       "        </tr>\n",
       "        <tr>\n",
       "            <td>Bailey, Jayden</td>\n",
       "        </tr>\n",
       "    </tbody>\n",
       "</table>"
      ],
      "text/plain": [
       "[('Aguilar, Stephen',),\n",
       " ('Anderson, Philip',),\n",
       " ('Arnaud, Antoine',),\n",
       " ('Austin, Stephanie',),\n",
       " ('Bailey, Jayden',)]"
      ]
     },
     "execution_count": 6,
     "metadata": {},
     "output_type": "execute_result"
    }
   ],
   "source": [
    "%%sql\n",
    "/* Enter your SQL query below */\n",
    "\n",
    "SELECT instructorlast || ', ' || instructorfirst AS full_name FROM instructors\n",
    "ORDER BY full_name ASC\n",
    "LIMIT 5"
   ]
  },
  {
   "cell_type": "markdown",
   "metadata": {},
   "source": [
    "<div class=\"exercise\"><b>Exercise 3:</b></div> \n",
    "\n",
    "In reference to the `courses` table, create a new column `catalog` obtained as the course subject, followed by a space, followed by the course number, followed by a colon and a space, followed by the course title. Only include `'MATH'` courses.  Order by course number in descending order and limit the results to five rows.\n",
    "\n",
    "The output from my solution is:<br>\n",
    "<code>\n",
    "catalog\n",
    "MATH 452: Senior Research\n",
    "MATH 451: Senior Research\n",
    "MATH 364: Independent Study\n",
    "MATH 363: Independent Study\n",
    "MATH 362: Directed Study\n",
    "</code>"
   ]
  },
  {
   "cell_type": "code",
   "execution_count": 7,
   "metadata": {},
   "outputs": [
    {
     "name": "stdout",
     "output_type": "stream",
     "text": [
      "   sqlite:///book.db\n",
      " * sqlite:///school.db\n",
      "Done.\n"
     ]
    },
    {
     "data": {
      "text/html": [
       "<table>\n",
       "    <thead>\n",
       "        <tr>\n",
       "            <th>catalog</th>\n",
       "        </tr>\n",
       "    </thead>\n",
       "    <tbody>\n",
       "        <tr>\n",
       "            <td>MATH 452: Senior Research</td>\n",
       "        </tr>\n",
       "        <tr>\n",
       "            <td>MATH 451: Senior Research</td>\n",
       "        </tr>\n",
       "        <tr>\n",
       "            <td>MATH 364: Independent Study</td>\n",
       "        </tr>\n",
       "        <tr>\n",
       "            <td>MATH 363: Independent Study</td>\n",
       "        </tr>\n",
       "        <tr>\n",
       "            <td>MATH 362: Directed Study</td>\n",
       "        </tr>\n",
       "    </tbody>\n",
       "</table>"
      ],
      "text/plain": [
       "[('MATH 452: Senior Research',),\n",
       " ('MATH 451: Senior Research',),\n",
       " ('MATH 364: Independent Study',),\n",
       " ('MATH 363: Independent Study',),\n",
       " ('MATH 362: Directed Study',)]"
      ]
     },
     "execution_count": 7,
     "metadata": {},
     "output_type": "execute_result"
    }
   ],
   "source": [
    "%%sql\n",
    "/* Enter your SQL query below */\n",
    "\n",
    "SELECT coursesubject || ' ' || coursenum || ': ' || coursetitle AS catalog FROM courses\n",
    "WHERE coursesubject = 'MATH'\n",
    "ORDER BY coursenum DESC\n",
    "LIMIT 5"
   ]
  },
  {
   "cell_type": "markdown",
   "metadata": {},
   "source": [
    "**Run the code cell below to connect to the `book.db` database.**"
   ]
  },
  {
   "cell_type": "code",
   "execution_count": 8,
   "metadata": {},
   "outputs": [
    {
     "data": {
      "text/plain": [
       "'Connected: @book.db'"
      ]
     },
     "execution_count": 8,
     "metadata": {},
     "output_type": "execute_result"
    }
   ],
   "source": [
    "%sql sqlite:///book.db"
   ]
  },
  {
   "cell_type": "markdown",
   "metadata": {},
   "source": [
    "<div class=\"exercise\"><b>Exercise 4:</b></div> \n",
    "\n",
    "Write an SQL query to determine the number of distinct female names in the `topnames` table.\n",
    "\n",
    "Below is the output from my solution (can you mimic it?):<br>\n",
    "<code>\n",
    "num_female_names\n",
    "              10\n",
    "</code>"
   ]
  },
  {
   "cell_type": "code",
   "execution_count": 9,
   "metadata": {},
   "outputs": [
    {
     "name": "stdout",
     "output_type": "stream",
     "text": [
      " * sqlite:///book.db\n",
      "   sqlite:///school.db\n",
      "Done.\n"
     ]
    },
    {
     "data": {
      "text/html": [
       "<table>\n",
       "    <thead>\n",
       "        <tr>\n",
       "            <th>num_female_names</th>\n",
       "        </tr>\n",
       "    </thead>\n",
       "    <tbody>\n",
       "        <tr>\n",
       "            <td>10</td>\n",
       "        </tr>\n",
       "    </tbody>\n",
       "</table>"
      ],
      "text/plain": [
       "[(10,)]"
      ]
     },
     "execution_count": 9,
     "metadata": {},
     "output_type": "execute_result"
    }
   ],
   "source": [
    "%%sql\n",
    "/* Enter your SQL query below */\n",
    "\n",
    "SELECT COUNT(DISTINCT name) AS num_female_names FROM topnames\n",
    "WHERE sex = 'Female'"
   ]
  },
  {
   "cell_type": "markdown",
   "metadata": {},
   "source": [
    "<div class=\"exercise\"><b>Exercise 5:</b></div> \n",
    "\n",
    "From the `indicators` table, find the average life expectancy, the minimum year, and the maximum number of cell phone subscribers.\n",
    "\n",
    "Below is the output from my solution (can you mimic it?):<br>\n",
    "<code>\n",
    "avg_life\t     min_year   max_cell\n",
    "64.00322182010733\t1960\t1469.88\n",
    "</code>"
   ]
  },
  {
   "cell_type": "code",
   "execution_count": 10,
   "metadata": {},
   "outputs": [
    {
     "name": "stdout",
     "output_type": "stream",
     "text": [
      " * sqlite:///book.db\n",
      "   sqlite:///school.db\n",
      "Done.\n"
     ]
    },
    {
     "data": {
      "text/html": [
       "<table>\n",
       "    <thead>\n",
       "        <tr>\n",
       "            <th>avg_life</th>\n",
       "            <th>min_year</th>\n",
       "            <th>max_cell</th>\n",
       "        </tr>\n",
       "    </thead>\n",
       "    <tbody>\n",
       "        <tr>\n",
       "            <td>64.00322182010733</td>\n",
       "            <td>1960</td>\n",
       "            <td>1469.88</td>\n",
       "        </tr>\n",
       "    </tbody>\n",
       "</table>"
      ],
      "text/plain": [
       "[(64.00322182010733, 1960, 1469.88)]"
      ]
     },
     "execution_count": 10,
     "metadata": {},
     "output_type": "execute_result"
    }
   ],
   "source": [
    "%%sql\n",
    "/* Enter your SQL query below */\n",
    "\n",
    "SELECT AVG(life) AS avg_life, MIN(year) AS min_year, MAX(cell) AS max_cell\n",
    "FROM indicators"
   ]
  },
  {
   "cell_type": "markdown",
   "metadata": {},
   "source": [
    "<div class=\"exercise\"><b>Exercise 6:</b></div> \n",
    "\n",
    "With regards to the `indicators` table, use a select query to answer the question: which country and year had the highest cell phone number? **Hint:** use a subquery and MAX to find the overall highest cell phone number, then find which row has that number.\n",
    "\n",
    "Below is the output from my solution:<br>\n",
    "<code>\n",
    "code\tyear\n",
    "CHN\t2017\n",
    "</code>"
   ]
  },
  {
   "cell_type": "code",
   "execution_count": 11,
   "metadata": {},
   "outputs": [
    {
     "name": "stdout",
     "output_type": "stream",
     "text": [
      " * sqlite:///book.db\n",
      "   sqlite:///school.db\n",
      "Done.\n"
     ]
    },
    {
     "data": {
      "text/html": [
       "<table>\n",
       "    <thead>\n",
       "        <tr>\n",
       "            <th>code</th>\n",
       "            <th>year</th>\n",
       "        </tr>\n",
       "    </thead>\n",
       "    <tbody>\n",
       "        <tr>\n",
       "            <td>CHN</td>\n",
       "            <td>2017</td>\n",
       "        </tr>\n",
       "    </tbody>\n",
       "</table>"
      ],
      "text/plain": [
       "[('CHN', 2017)]"
      ]
     },
     "execution_count": 11,
     "metadata": {},
     "output_type": "execute_result"
    }
   ],
   "source": [
    "%%sql\n",
    "/* Enter your SQL query below */\n",
    "\n",
    "SELECT code, year FROM indicators\n",
    "WHERE cell = (SELECT MAX(cell) FROM indicators)"
   ]
  },
  {
   "cell_type": "markdown",
   "metadata": {},
   "source": [
    "<div class=\"exercise\"><b>Exercise 7:</b></div> \n",
    "\n",
    "From the `countries` table, use a query to answer the question: how many countries are there in each region? Alias your new column as `num_countries`.  **Hint:** You will need to use a GROUP BY.\n",
    "\n",
    "Below is the output from my solution:<br>\n",
    "<code>\n",
    "region\t                num_countries\n",
    "East Asia & Pacific\t              37\n",
    "Europe & Central Asia\t            58\n",
    "Latin America & Caribbean\t        42\n",
    "Middle East & North Africa\t       21\n",
    "North America\t                     3\n",
    "South Asia\t                        8\n",
    "Sub-Saharan Africa\t               48\n",
    "</code>"
   ]
  },
  {
   "cell_type": "code",
   "execution_count": 12,
   "metadata": {},
   "outputs": [
    {
     "name": "stdout",
     "output_type": "stream",
     "text": [
      " * sqlite:///book.db\n",
      "   sqlite:///school.db\n",
      "Done.\n"
     ]
    },
    {
     "data": {
      "text/html": [
       "<table>\n",
       "    <thead>\n",
       "        <tr>\n",
       "            <th>region</th>\n",
       "            <th>num_countries</th>\n",
       "        </tr>\n",
       "    </thead>\n",
       "    <tbody>\n",
       "        <tr>\n",
       "            <td>East Asia &amp; Pacific</td>\n",
       "            <td>37</td>\n",
       "        </tr>\n",
       "        <tr>\n",
       "            <td>Europe &amp; Central Asia</td>\n",
       "            <td>58</td>\n",
       "        </tr>\n",
       "        <tr>\n",
       "            <td>Latin America &amp; Caribbean</td>\n",
       "            <td>42</td>\n",
       "        </tr>\n",
       "        <tr>\n",
       "            <td>Middle East &amp; North Africa</td>\n",
       "            <td>21</td>\n",
       "        </tr>\n",
       "        <tr>\n",
       "            <td>North America</td>\n",
       "            <td>3</td>\n",
       "        </tr>\n",
       "        <tr>\n",
       "            <td>South Asia</td>\n",
       "            <td>8</td>\n",
       "        </tr>\n",
       "        <tr>\n",
       "            <td>Sub-Saharan Africa</td>\n",
       "            <td>48</td>\n",
       "        </tr>\n",
       "    </tbody>\n",
       "</table>"
      ],
      "text/plain": [
       "[('East Asia & Pacific', 37),\n",
       " ('Europe & Central Asia', 58),\n",
       " ('Latin America & Caribbean', 42),\n",
       " ('Middle East & North Africa', 21),\n",
       " ('North America', 3),\n",
       " ('South Asia', 8),\n",
       " ('Sub-Saharan Africa', 48)]"
      ]
     },
     "execution_count": 12,
     "metadata": {},
     "output_type": "execute_result"
    }
   ],
   "source": [
    "%%sql\n",
    "/* Enter your SQL query below */\n",
    "\n",
    "SELECT region, COUNT(country) AS num_countries\n",
    "FROM countries\n",
    "GROUP BY region"
   ]
  },
  {
   "cell_type": "markdown",
   "metadata": {},
   "source": [
    "<div class=\"exercise\"><b>Exercise 8:</b></div> \n",
    "\n",
    "Use the `indicators` table to find the total world population in each year (as the sum of country populations). Use the alias `total_pop` for your new column.  Limit your results to five rows.\n",
    "\n",
    "Below is the output from my solution:<br>\n",
    "<code>\n",
    "year\ttotal_pop\n",
    "1960\t3014.6900000000014\n",
    "1961\t3055.3700000000003\n",
    "1962\t3107.859999999999\n",
    "1963\t3172.6700000000014\n",
    "1964\t3237.700000000004\n",
    "</code>"
   ]
  },
  {
   "cell_type": "code",
   "execution_count": 13,
   "metadata": {},
   "outputs": [
    {
     "name": "stdout",
     "output_type": "stream",
     "text": [
      " * sqlite:///book.db\n",
      "   sqlite:///school.db\n",
      "Done.\n"
     ]
    },
    {
     "data": {
      "text/html": [
       "<table>\n",
       "    <thead>\n",
       "        <tr>\n",
       "            <th>year</th>\n",
       "            <th>total_pop</th>\n",
       "        </tr>\n",
       "    </thead>\n",
       "    <tbody>\n",
       "        <tr>\n",
       "            <td>1960</td>\n",
       "            <td>3014.6900000000014</td>\n",
       "        </tr>\n",
       "        <tr>\n",
       "            <td>1961</td>\n",
       "            <td>3055.3700000000003</td>\n",
       "        </tr>\n",
       "        <tr>\n",
       "            <td>1962</td>\n",
       "            <td>3107.859999999999</td>\n",
       "        </tr>\n",
       "        <tr>\n",
       "            <td>1963</td>\n",
       "            <td>3172.6700000000014</td>\n",
       "        </tr>\n",
       "        <tr>\n",
       "            <td>1964</td>\n",
       "            <td>3237.700000000004</td>\n",
       "        </tr>\n",
       "    </tbody>\n",
       "</table>"
      ],
      "text/plain": [
       "[(1960, 3014.6900000000014),\n",
       " (1961, 3055.3700000000003),\n",
       " (1962, 3107.859999999999),\n",
       " (1963, 3172.6700000000014),\n",
       " (1964, 3237.700000000004)]"
      ]
     },
     "execution_count": 13,
     "metadata": {},
     "output_type": "execute_result"
    }
   ],
   "source": [
    "%%sql\n",
    "/* Enter your SQL query below */\n",
    "\n",
    "SELECT year, SUM(pop)AS total_pop\n",
    "FROM indicators\n",
    "GROUP BY year\n",
    "LIMIT 5"
   ]
  },
  {
   "cell_type": "markdown",
   "metadata": {},
   "source": [
    "<div class=\"exercise\"><b>Exercise 9:</b></div> \n",
    "\n",
    "Treating your query from Exercise 8 as a subquery, find the maximum for `total_pop` over *all* years. Use the alias `max_pop` for the new column.\n",
    "\n",
    "Below is the output from my solution:<br>\n",
    "<code>\n",
    "max_pop\n",
    "7567.310000000001\n",
    "</code>"
   ]
  },
  {
   "cell_type": "code",
   "execution_count": 14,
   "metadata": {},
   "outputs": [
    {
     "name": "stdout",
     "output_type": "stream",
     "text": [
      " * sqlite:///book.db\n",
      "   sqlite:///school.db\n",
      "Done.\n"
     ]
    },
    {
     "data": {
      "text/html": [
       "<table>\n",
       "    <thead>\n",
       "        <tr>\n",
       "            <th>MAX(total_pop)</th>\n",
       "        </tr>\n",
       "    </thead>\n",
       "    <tbody>\n",
       "        <tr>\n",
       "            <td>7567.310000000001</td>\n",
       "        </tr>\n",
       "    </tbody>\n",
       "</table>"
      ],
      "text/plain": [
       "[(7567.310000000001,)]"
      ]
     },
     "execution_count": 14,
     "metadata": {},
     "output_type": "execute_result"
    }
   ],
   "source": [
    "%%sql\n",
    "/* Enter your SQL query below */\n",
    "\n",
    "SELECT MAX(total_pop)\n",
    "FROM (SELECT year, SUM(pop) AS total_pop FROM indicators GROUP BY year)"
   ]
  },
  {
   "cell_type": "markdown",
   "metadata": {},
   "source": [
    "**Run the code cell below to connect to the `school.db` database.**"
   ]
  },
  {
   "cell_type": "code",
   "execution_count": 23,
   "metadata": {},
   "outputs": [
    {
     "data": {
      "text/plain": [
       "'Connected: @school.db'"
      ]
     },
     "execution_count": 23,
     "metadata": {},
     "output_type": "execute_result"
    }
   ],
   "source": [
    "%sql sqlite:///school.db"
   ]
  },
  {
   "cell_type": "markdown",
   "metadata": {},
   "source": [
    "<div class=\"exercise\"><b>Exercise 10:</b></div> \n",
    "\n",
    "In reference to the `school` database, write a query to obtain the number of sections for each class in the fall semester.  However, only include classes having at least 8 sections.  Project the course subject, course number, and a new column called `num_sections`.  **Hint:** You will need to use `GROUP BY classterm, coursesubject, coursenum` to uniquely identify the courses.  Order the results by the number of sections, course number, and course subject using:\n",
    "\n",
    "`ORDER BY num_sections DESC, classterm, coursesubject, coursenum`\n",
    "\n",
    "Below is the output from my solution:<br>\n",
    "<code>\n",
    "coursesubject\tcoursenum\tnum_sections\n",
    "FYS\t                101\t          21\n",
    "FYS\t                102\t          20\n",
    "BIOL\t               451\t          12         \n",
    "PHED\t               350\t          11\n",
    "HIST\t               451\t           8\n",
    "</code>\t  "
   ]
  },
  {
   "cell_type": "code",
   "execution_count": 25,
   "metadata": {},
   "outputs": [
    {
     "name": "stdout",
     "output_type": "stream",
     "text": [
      "   sqlite:///book.db\n",
      " * sqlite:///school.db\n",
      "Done.\n"
     ]
    },
    {
     "data": {
      "text/html": [
       "<table>\n",
       "    <thead>\n",
       "        <tr>\n",
       "            <th>coursesubject</th>\n",
       "            <th>coursenum</th>\n",
       "            <th>num_sections</th>\n",
       "        </tr>\n",
       "    </thead>\n",
       "    <tbody>\n",
       "        <tr>\n",
       "            <td>FYS</td>\n",
       "            <td>101</td>\n",
       "            <td>21</td>\n",
       "        </tr>\n",
       "        <tr>\n",
       "            <td>FYS</td>\n",
       "            <td>102</td>\n",
       "            <td>20</td>\n",
       "        </tr>\n",
       "        <tr>\n",
       "            <td>BIOL</td>\n",
       "            <td>451</td>\n",
       "            <td>12</td>\n",
       "        </tr>\n",
       "        <tr>\n",
       "            <td>PHED</td>\n",
       "            <td>350</td>\n",
       "            <td>11</td>\n",
       "        </tr>\n",
       "        <tr>\n",
       "            <td>HIST</td>\n",
       "            <td>451</td>\n",
       "            <td>8</td>\n",
       "        </tr>\n",
       "    </tbody>\n",
       "</table>"
      ],
      "text/plain": [
       "[('FYS', 101, 21),\n",
       " ('FYS', 102, 20),\n",
       " ('BIOL', 451, 12),\n",
       " ('PHED', 350, 11),\n",
       " ('HIST', 451, 8)]"
      ]
     },
     "execution_count": 25,
     "metadata": {},
     "output_type": "execute_result"
    }
   ],
   "source": [
    "%%sql\n",
    "/* Enter your SQL query below */\n",
    "\n",
    "SELECT coursesubject, coursenum, COUNT(classsection) AS num_sections\n",
    "FROM classes\n",
    "WHERE classterm = 'FALL'\n",
    "GROUP BY classterm, coursesubject, coursenum\n",
    "HAVING COUNT(classsection) >= 8\n",
    "ORDER BY num_sections DESC, classterm, coursesubject, coursenum\n",
    "LIMIT 5;"
   ]
  },
  {
   "cell_type": "markdown",
   "metadata": {},
   "source": [
    "<div class=\"exercise\"><b>Exercise 11:</b></div> \n",
    "\n",
    "In reference to the `school` database, write a query to obtain the department chairs for Modern Language (`'LANG'`), Philosophy (`'PHIL'`), and Mathematics and Computer Science (`'MATH'`).  Note that you will need to use an inner join of the `departments` and `instructors` tables.  Project the department name, the chair's last name, and the chair's first name.\n",
    "\n",
    "Below is the output from my solution:<br>\n",
    "<code>\n",
    "departmentname\t              instructorlast\tinstructorfirst\n",
    "Modern Language\t             Brown\t         Danielle\n",
    "Mathematics & Computer Science  Bradley       \tBetty\n",
    "Philosophy\t                  Singhal\t       Aarav\n",
    "</code>"
   ]
  },
  {
   "cell_type": "code",
   "execution_count": 17,
   "metadata": {},
   "outputs": [
    {
     "name": "stdout",
     "output_type": "stream",
     "text": [
      "   sqlite:///book.db\n",
      " * sqlite:///school.db\n",
      "0 rows affected.\n"
     ]
    },
    {
     "data": {
      "text/plain": [
       "[]"
      ]
     },
     "execution_count": 17,
     "metadata": {},
     "output_type": "execute_result"
    }
   ],
   "source": [
    "%%sql\n",
    "/* Enter your SQL query below */\n",
    "\n"
   ]
  },
  {
   "cell_type": "markdown",
   "metadata": {},
   "source": [
    "<div class=\"exercise\"><b>Exercise 12:</b></div> \n",
    "\n",
    "In reference to the `school` database, write a query to list all of the students who are mathematics (`'MATH'`) majors.  Order the results by last name, first name.  Limit the results to 6 rows.  Note that you will need to use an inner join on the `students` and `subjects` tables.\n",
    "\n",
    "Below is the output from my solution:<br>\n",
    "<code>\n",
    "studentlast\t studentfirst\n",
    "Barnett\t     Larry\n",
    "Campbell    \tGloria\n",
    "Chapman\t     Robert\n",
    "Colombo         Giulia\n",
    "Davis\t       Crystal\n",
    "Edwards     \tGary\n",
    "</code>"
   ]
  },
  {
   "cell_type": "code",
   "execution_count": 18,
   "metadata": {},
   "outputs": [
    {
     "name": "stdout",
     "output_type": "stream",
     "text": [
      "   sqlite:///book.db\n",
      " * sqlite:///school.db\n",
      "0 rows affected.\n"
     ]
    },
    {
     "data": {
      "text/plain": [
       "[]"
      ]
     },
     "execution_count": 18,
     "metadata": {},
     "output_type": "execute_result"
    }
   ],
   "source": [
    "%%sql\n",
    "/* Enter your SQL query below */\n",
    "\n"
   ]
  }
 ],
 "metadata": {
  "celltoolbar": "Raw Cell Format",
  "kernelspec": {
   "display_name": "Python 3 (ipykernel)",
   "language": "python",
   "name": "python3"
  },
  "language_info": {
   "codemirror_mode": {
    "name": "ipython",
    "version": 3
   },
   "file_extension": ".py",
   "mimetype": "text/x-python",
   "name": "python",
   "nbconvert_exporter": "python",
   "pygments_lexer": "ipython3",
   "version": "3.9.7"
  }
 },
 "nbformat": 4,
 "nbformat_minor": 2
}

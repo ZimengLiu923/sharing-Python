{
 "cells": [
  {
   "cell_type": "markdown",
   "metadata": {},
   "source": [
    "# Data 200: Database Systems and Data Management for Data Analytics\n"
   ]
  },
  {
   "cell_type": "markdown",
   "metadata": {},
   "source": [
    "# Homework 6: Transformations in Pandas\n",
    "\n",
    "**Dickinson College**<br/>\n",
    "**Spring 2022**<br/>\n",
    "**Instructor:** Dick Forrester<br/>\n",
    "**Author:** Dick Forrester<br>\n",
    "<font color='red'>**Due Date and Time:** 11:59pm on Thursday, 2/24/2022 </font>\n",
    "---\n",
    "Enter your name in the markdown cell below."
   ]
  },
  {
   "cell_type": "markdown",
   "metadata": {},
   "source": [
    "# Name:"
   ]
  },
  {
   "cell_type": "code",
   "execution_count": 1,
   "metadata": {},
   "outputs": [
    {
     "data": {
      "text/html": [
       "<style>\n",
       "blockquote { background: #AEDE94; }\n",
       "h1 { \n",
       "    padding-top: 25px;\n",
       "    padding-bottom: 25px;\n",
       "    text-align: left; \n",
       "    padding-left: 10px;\n",
       "    background-color: #DDDDDD; \n",
       "    color: black;\n",
       "}\n",
       "h2 { \n",
       "    padding-top: 10px;\n",
       "    padding-bottom: 10px;\n",
       "    text-align: left; \n",
       "    padding-left: 5px;\n",
       "    background-color: #EEEEEE; \n",
       "    color: black;\n",
       "}\n",
       "\n",
       "div.exercise {\n",
       "\tbackground-color: #ffcccc;\n",
       "\tborder-color: #E9967A; \t\n",
       "\tborder-left: 5px solid #800080; \n",
       "\tpadding: 0.5em;\n",
       "}\n",
       "\n",
       "div.exercise-r {\n",
       "\tbackground-color: #fce8e8;\n",
       "\tborder-color: #E9967A; \t\n",
       "\tborder-left: 5px solid #800080; \n",
       "\tpadding: 0.5em;\n",
       "}\n",
       "\n",
       "\n",
       "span.sub-q {\n",
       "\tfont-weight: bold;\n",
       "}\n",
       "div.theme {\n",
       "\tbackground-color: #DDDDDD;\n",
       "\tborder-color: #E9967A; \t\n",
       "\tborder-left: 5px solid #800080; \n",
       "\tpadding: 0.5em;\n",
       "\tfont-size: 18pt;\n",
       "}\n",
       "div.gc { \n",
       "\tbackground-color: #AEDE94;\n",
       "\tborder-color: #E9967A; \t \n",
       "\tborder-left: 5px solid #800080; \n",
       "\tpadding: 0.5em;\n",
       "\tfont-size: 12pt;\n",
       "}\n",
       "p.q1 { \n",
       "    padding-top: 5px;\n",
       "    padding-bottom: 5px;\n",
       "    text-align: left; \n",
       "    padding-left: 5px;\n",
       "    background-color: #EEEEEE; \n",
       "    color: black;\n",
       "}\n",
       "header {\n",
       "   padding-top: 35px;\n",
       "    padding-bottom: 35px;\n",
       "    text-align: left; \n",
       "    padding-left: 10px;\n",
       "    background-color: #DDDDDD; \n",
       "    color: black;\n",
       "}\n",
       "</style>\n",
       "\n"
      ],
      "text/plain": [
       "<IPython.core.display.HTML object>"
      ]
     },
     "execution_count": 1,
     "metadata": {},
     "output_type": "execute_result"
    }
   ],
   "source": [
    "## RUN THIS CELL TO GET THE RIGHT FORMATTING AND TO LOAD NumPy\n",
    "import requests\n",
    "import numpy as np\n",
    "from IPython.core.display import HTML\n",
    "styles = requests.get(\"https://raw.githubusercontent.com/Harvard-IACS/2018-CS109A/master/content/styles/cs109.css\").text\n",
    "HTML(styles)"
   ]
  },
  {
   "cell_type": "markdown",
   "metadata": {},
   "source": [
    "# Tasks\n",
    "\n",
    "- Review pages 133-151 in the Course Notes.\n",
    "- Complete the **Advanced Merging and Concatenating** and **Merging Ordered and Time-Series Data** chapters of the **Joining Data with Pandas** course on DataCamp\n",
    "- E-mail me your completed Jupyter notebook."
   ]
  },
  {
   "cell_type": "markdown",
   "metadata": {},
   "source": [
    "# Exercises"
   ]
  },
  {
   "cell_type": "markdown",
   "metadata": {},
   "source": [
    "This homework will give you some practice using *melt* and *pivot* in Pandas.  The data for this assignment is contained in the `hw06data` folder."
   ]
  },
  {
   "cell_type": "markdown",
   "metadata": {},
   "source": [
    "<div class=\"exercise\"><b>Exercise 1: Loading and Examining Air Quality Data</b></div> \n",
    "\n",
    "The `airquality.csv` file in the folder `hw06data` contains some data related to air quality.\n",
    "\n",
    "In the code cell below, write Python code to do the following.<br>\n",
    "\n",
    "1. Import the Pandas library.\n",
    "1. Read in the file `airquality.csv` and assign it to the data frame `airquality`.\n",
    "1. Print `airquailty.head()` and examine the columns and type of data contained in the data frame.\n",
    "1. Print `airquality.shape` to determine the number of rows and columns.\n",
    "\n",
    "The output from my solution is:<br>\n",
    "<code>\n",
    "   Ozone  Solar.R  Wind  Temp  Month  Day\n",
    "0   41.0    190.0   7.4    67      5    1\n",
    "1   36.0    118.0   8.0    72      5    2\n",
    "2   12.0    149.0  12.6    74      5    3\n",
    "3   18.0    313.0  11.5    62      5    4\n",
    "4    NaN      NaN  14.3    56      5    5\n",
    "</code><code>\n",
    "(153, 6)\n",
    "</code>"
   ]
  },
  {
   "cell_type": "code",
   "execution_count": 2,
   "metadata": {},
   "outputs": [
    {
     "name": "stdout",
     "output_type": "stream",
     "text": [
      "   Ozone  Solar.R  Wind  Temp  Month  Day\n",
      "0   41.0    190.0   7.4    67      5    1\n",
      "1   36.0    118.0   8.0    72      5    2\n",
      "2   12.0    149.0  12.6    74      5    3\n",
      "3   18.0    313.0  11.5    62      5    4\n",
      "4    NaN      NaN  14.3    56      5    5\n",
      "\n",
      "(153, 6)\n"
     ]
    }
   ],
   "source": [
    "import pandas as pd\n",
    "airquality = pd.read_csv('hw06data/airquality.csv')\n",
    "print(airquality.head())\n",
    "print()\n",
    "print(airquality.shape)"
   ]
  },
  {
   "cell_type": "markdown",
   "metadata": {},
   "source": [
    "<div class=\"exercise\"><b>Exercise 2: Melting Air Quality Data</b></div> \n",
    "\n",
    "Note that `airquality` is a *tidy* data frame because all the variables (`Ozone`, `Solar.R`, `Wind`, and `Temp`) each have their own column and each row represent a different observation. \n",
    "\n",
    "Suppose we wanted these variables to be in rows instead, which would of course make the data *untidy*! To accomplish this we can use the `melt()` function, which has two main parameters: `id_vars` and `value_vars`. The `id_vars` represent the columns of the data you do not want to melt (i.e., keep it in its current shape), while the `value_vars` represent the columns you do wish to melt into rows. By default, if no `value_vars` are provided, all columns not set in the `id_vars` will be melted. This could save a bit of typing, depending on the number of columns that need to be melted.\n",
    "\n",
    "In the code cell below, write Python code to do the following.<br>\n",
    "\n",
    "1. Use `melt()` to melt the `Ozone`, `Solar.R`, `Wind`, and `Temp` columns into rows and assign it to the data frame `airquality_melt`.\n",
    "1. Print the first five rows of `airquality_melt`.\n",
    "1. Print `airquality_melt.shape`\n",
    "\n",
    "The output from my solution is:<br>\n",
    "<code>\n",
    "   Month  Day variable  value\n",
    "0      5    1    Ozone   41.0\n",
    "1      5    2    Ozone   36.0\n",
    "2      5    3    Ozone   12.0\n",
    "3      5    4    Ozone   18.0\n",
    "4      5    5    Ozone    NaN\n",
    "</code><code>\n",
    "(612, 4)\n",
    "</code>"
   ]
  },
  {
   "cell_type": "code",
   "execution_count": 3,
   "metadata": {},
   "outputs": [
    {
     "name": "stdout",
     "output_type": "stream",
     "text": [
      "   Month  Day variable  value\n",
      "0      5    1    Ozone   41.0\n",
      "1      5    2    Ozone   36.0\n",
      "2      5    3    Ozone   12.0\n",
      "3      5    4    Ozone   18.0\n",
      "4      5    5    Ozone    NaN\n",
      "\n",
      "(612, 4)\n"
     ]
    }
   ],
   "source": [
    "airquality_melt = airquality.melt(id_vars = ['Month','Day'], \\\n",
    "                                 value_vars = ['Ozone','Solar.R','Wind','Temp'])\n",
    "print(airquality_melt.head())\n",
    "print()\n",
    "print(airquality_melt.shape)"
   ]
  },
  {
   "cell_type": "markdown",
   "metadata": {},
   "source": [
    "It's important to note that the `airquality_melt` data frame is no longer tidy.  Furthermore, note that the third column in `airquality_melt` is generically called `variable`, while the last column is generically called `value`."
   ]
  },
  {
   "cell_type": "markdown",
   "metadata": {},
   "source": [
    "<div class=\"exercise\"><b>Exercise 3: Melting Air Quality Data Part 2</b></div> \n",
    "\n",
    "When melting data frames, it would be better to have column names more meaningful than `variable` and `value`. The default names may work in certain situations, but it's best to always have data that is self explanatory. You can rename the `variable` column by specifying an argument to the `var_name` parameter, and the `value` column by specifying an argument to the `value_name` parameter.\n",
    "\n",
    "In the code cell below, write Python code to do the following.<br>\n",
    "\n",
    "1. Update your call to `melt()` from the previous exercise so that is specifies `var_name='measurement'` and `value_name='reading'` as additional parameters (which provide appropriate column names), once again assign it to the data frame `airquality_melt`.\n",
    "1. Print the first five rows of `airquality_melt`.\n",
    "1. Print `airquality_melt.shape`\n",
    "\n",
    "The output from my solution is:<br>\n",
    "<code>\n",
    "   Month  Day measurement  reading\n",
    "0      5    1       Ozone     41.0\n",
    "1      5    2       Ozone     36.0\n",
    "2      5    3       Ozone     12.0\n",
    "3      5    4       Ozone     18.0\n",
    "4      5    5       Ozone      NaN\n",
    "</code><code>\n",
    "(612, 4)\n",
    "</code>"
   ]
  },
  {
   "cell_type": "code",
   "execution_count": 4,
   "metadata": {},
   "outputs": [
    {
     "name": "stdout",
     "output_type": "stream",
     "text": [
      "   Month  Day measurement  reading\n",
      "0      5    1       Ozone     41.0\n",
      "1      5    2       Ozone     36.0\n",
      "2      5    3       Ozone     12.0\n",
      "3      5    4       Ozone     18.0\n",
      "4      5    5       Ozone      NaN\n",
      "\n",
      "(612, 4)\n"
     ]
    }
   ],
   "source": [
    "airquality_melt = airquality.melt(id_vars = ['Month','Day'], \\\n",
    "                                 value_vars = ['Ozone','Solar.R','Wind','Temp'], \\\n",
    "                                 var_name = 'measurement', value_name = 'reading')\n",
    "print(airquality_melt.head())\n",
    "print()\n",
    "print(airquality_melt.shape)"
   ]
  },
  {
   "cell_type": "markdown",
   "metadata": {},
   "source": [
    "The DataFrame is more informative now because of the appropriate column names."
   ]
  },
  {
   "cell_type": "markdown",
   "metadata": {},
   "source": [
    "<div class=\"exercise\"><b>Exercise 4: Pivoting Melting Air Quality Data</b></div> \n",
    "\n",
    "**Pivoting** data is the opposite of melting it. Remember the tidy form that the `airquality` data frame was in before you melted it? You'll now begin pivoting it back into that form using the `pivot_table()` method!\n",
    "\n",
    "While melting takes a set of columns and turns it into a single column, pivoting will create a new column for each unique value in a specified column.  The `pivot_table()` function has an `index` parameter which you can use to specify the columns that you don't want pivoted: It is similar to the `id_vars` parameter of `pd.melt()`. Two other parameters that you have to specify are `columns` (the name of the column you want to pivot), and `values` (the values to be used when the column is pivoted).\n",
    "\n",
    "In the code cell below, write Python code to do the following.<br>\n",
    "\n",
    "1. Using `pd.pivot_table()`, *pivot* on the `measurement` column, *don't* pivot on the `Month` and `Day` columns, and use `reading` as the values to use when the column is pivoted.  Call the resulting data frame `airquality_pivot`.\n",
    "1. Print the first five rows of `airquality_pivot`.\n",
    "1. Print `airquality_pivot.shape`\n",
    "\n",
    "The output from my solution is:<br>\n",
    "<code>\n",
    "measurement  Ozone  Solar.R  Temp  Wind\n",
    "Month Day                              \n",
    "5     1       41.0    190.0  67.0   7.4\n",
    "      2       36.0    118.0  72.0   8.0\n",
    "      3       12.0    149.0  74.0  12.6\n",
    "      4       18.0    313.0  62.0  11.5\n",
    "      5        NaN      NaN  56.0  14.3\n",
    "</code><code>\n",
    "(153, 4)\n",
    "</code>"
   ]
  },
  {
   "cell_type": "code",
   "execution_count": 6,
   "metadata": {},
   "outputs": [
    {
     "name": "stdout",
     "output_type": "stream",
     "text": [
      "measurement  Ozone  Solar.R  Temp  Wind\n",
      "Month Day                              \n",
      "5     1       41.0    190.0  67.0   7.4\n",
      "      2       36.0    118.0  72.0   8.0\n",
      "      3       12.0    149.0  74.0  12.6\n",
      "      4       18.0    313.0  62.0  11.5\n",
      "      5        NaN      NaN  56.0  14.3\n",
      "(153, 4)\n"
     ]
    }
   ],
   "source": [
    "airquality_pivot = airquality_melt.pivot_table(index = [\"Month\",\"Day\"], columns = \"measurement\", values = \"reading\")\n",
    "print(airquality_pivot.head(5))\n",
    "print(airquality_pivot.shape)"
   ]
  },
  {
   "cell_type": "markdown",
   "metadata": {},
   "source": [
    "Notice that after pivoting `airquality_melt` we obtained a data frame with a *hierarchical index* (also known as a `MultiIndex`).  In essence, they allow you to group columns or rows by another variable - in this case, by `Month` as well as `Day`.\n",
    "\n",
    "If we wanted to get back to our original data frame before the melt, that is, we wanted to remove the hierarchical index, we can use the `reset_index()` method.  Run the code cell below and examine the results."
   ]
  },
  {
   "cell_type": "code",
   "execution_count": 7,
   "metadata": {},
   "outputs": [
    {
     "name": "stdout",
     "output_type": "stream",
     "text": [
      "measurement  Month  Day  Ozone  Solar.R  Temp  Wind\n",
      "0                5    1   41.0    190.0  67.0   7.4\n",
      "1                5    2   36.0    118.0  72.0   8.0\n",
      "2                5    3   12.0    149.0  74.0  12.6\n",
      "3                5    4   18.0    313.0  62.0  11.5\n",
      "4                5    5    NaN      NaN  56.0  14.3\n"
     ]
    }
   ],
   "source": [
    "# Reset the index of airquality_pivot: airquality_pivot_reset\n",
    "airquality_pivot_reset = airquality_pivot.reset_index()\n",
    "\n",
    "# Print the head of airquality_pivot_reset\n",
    "print(airquality_pivot_reset.head())"
   ]
  },
  {
   "cell_type": "markdown",
   "metadata": {},
   "source": [
    "## Handling Missing Data\n",
    "Before we move on to our next data set, let's once again examine the original `airquality` data frame.  Run the code cell below."
   ]
  },
  {
   "cell_type": "code",
   "execution_count": 8,
   "metadata": {},
   "outputs": [
    {
     "name": "stdout",
     "output_type": "stream",
     "text": [
      "   Ozone  Solar.R  Wind  Temp  Month  Day\n",
      "0   41.0    190.0   7.4    67      5    1\n",
      "1   36.0    118.0   8.0    72      5    2\n",
      "2   12.0    149.0  12.6    74      5    3\n",
      "3   18.0    313.0  11.5    62      5    4\n",
      "4    NaN      NaN  14.3    56      5    5\n",
      "\n",
      "<class 'pandas.core.frame.DataFrame'>\n",
      "RangeIndex: 153 entries, 0 to 152\n",
      "Data columns (total 6 columns):\n",
      " #   Column   Non-Null Count  Dtype  \n",
      "---  ------   --------------  -----  \n",
      " 0   Ozone    116 non-null    float64\n",
      " 1   Solar.R  146 non-null    float64\n",
      " 2   Wind     153 non-null    float64\n",
      " 3   Temp     153 non-null    int64  \n",
      " 4   Month    153 non-null    int64  \n",
      " 5   Day      153 non-null    int64  \n",
      "dtypes: float64(3), int64(3)\n",
      "memory usage: 7.3 KB\n",
      "None\n"
     ]
    }
   ],
   "source": [
    "print(airquality.head())\n",
    "print()\n",
    "print(airquality.info())"
   ]
  },
  {
   "cell_type": "markdown",
   "metadata": {},
   "source": [
    "First, notice that in row 4 there is a `NaN` in both the `Ozone` and `Solar.R` columns, indicating  *mising values*.  Furthermore, we can see from the output of the `info()` method that there are `153 entires` (rows), but for the `Ozone` column there are only `116 non-null` values.  This implies that there are 153-116 = 37 missing values.  **Please make sure you see where this is indicated in the output**.\n",
    "\n",
    "Missing values are common in dealing with real-world problems, especially when the data is aggregated over long time stretches. In statistics, **imputation** is the process of replacing missing data with substituted values. It's important to deal with missing data because certain calculations cannot handle missing values while some calculations will, by default, skip over any missing values.\n",
    "Also, understanding how much missing data you have, and thinking about where it comes from is crucial to making unbiased interpretations of data.\n",
    "\n",
    "Run the code cell below, which is the `fillna()` method to replace all the `NaN` values in the `Ozone` column with the mean of the `Ozone` values. You can read more about the `fillna()` function [here](https://www.geeksforgeeks.org/python-pandas-dataframe-fillna-to-replace-null-values-in-dataframe/).  **Make sure you understand the code before moving on!**\n"
   ]
  },
  {
   "cell_type": "code",
   "execution_count": 9,
   "metadata": {},
   "outputs": [
    {
     "name": "stdout",
     "output_type": "stream",
     "text": [
      "<class 'pandas.core.frame.DataFrame'>\n",
      "RangeIndex: 153 entries, 0 to 152\n",
      "Data columns (total 6 columns):\n",
      " #   Column   Non-Null Count  Dtype  \n",
      "---  ------   --------------  -----  \n",
      " 0   Ozone    153 non-null    float64\n",
      " 1   Solar.R  146 non-null    float64\n",
      " 2   Wind     153 non-null    float64\n",
      " 3   Temp     153 non-null    int64  \n",
      " 4   Month    153 non-null    int64  \n",
      " 5   Day      153 non-null    int64  \n",
      "dtypes: float64(3), int64(3)\n",
      "memory usage: 7.3 KB\n",
      "None\n"
     ]
    }
   ],
   "source": [
    "# Calculate the mean of the Ozone column: oz_mean\n",
    "oz_mean = airquality.Ozone.mean()\n",
    "\n",
    "# Replace all the missing values in the Ozone column with the mean\n",
    "airquality['Ozone'] = airquality.Ozone.fillna(oz_mean)\n",
    "\n",
    "# Print the info of airquality\n",
    "print(airquality.info())"
   ]
  },
  {
   "cell_type": "markdown",
   "metadata": {},
   "source": [
    "Notice that now there are `153 non-null` values in the `Ozone` column, matching the total number of rows.  In particular, all the `NaN` values have been replaced with the mean of the `Ozone` values."
   ]
  },
  {
   "cell_type": "markdown",
   "metadata": {},
   "source": [
    "<div class=\"exercise\"><b>Exercise 5: Loading and Examining Tuberculosis Data</b></div> \n",
    "\n",
    "The `tb.csv` file in the folder `hw06data` consisting of case counts of tuberculosis by country, year, gender, and age group.\n",
    "\n",
    "In the code cell below, write Python code to do the following.<br>\n",
    "\n",
    "1. Read in the file `tb.csv` and assign it to the data frame `tb`.\n",
    "1. Print `tb.head()` and examine the columns and type of data contained in the data frame.\n",
    "\n",
    "The output from my solution is:<br>\n",
    "<code>\n",
    "  country  year  m014  m1524  m2534  f014  f1524  f2534\n",
    "0      AD  2000   0.0    0.0    1.0   NaN    NaN    NaN\n",
    "1      AE  2000   2.0    4.0    4.0   3.0   16.0    1.0\n",
    "2      AF  2000  52.0  228.0  183.0  93.0  414.0  565.0\n",
    "3      AG  2000   0.0    0.0    0.0   1.0    1.0    1.0\n",
    "4      AL  2000   2.0   19.0   21.0   3.0   11.0   10.0\n",
    "</code>"
   ]
  },
  {
   "cell_type": "code",
   "execution_count": 10,
   "metadata": {},
   "outputs": [
    {
     "name": "stdout",
     "output_type": "stream",
     "text": [
      "  country  year  m014  m1524  m2534  f014  f1524  f2534\n",
      "0      AD  2000   0.0    0.0    1.0   NaN    NaN    NaN\n",
      "1      AE  2000   2.0    4.0    4.0   3.0   16.0    1.0\n",
      "2      AF  2000  52.0  228.0  183.0  93.0  414.0  565.0\n",
      "3      AG  2000   0.0    0.0    0.0   1.0    1.0    1.0\n",
      "4      AL  2000   2.0   19.0   21.0   3.0   11.0   10.0\n"
     ]
    }
   ],
   "source": [
    "tb = pd.read_csv('hw06data/tb.csv')\n",
    "print(tb.head())"
   ]
  },
  {
   "cell_type": "markdown",
   "metadata": {},
   "source": [
    "<div class=\"exercise\"><b>Exercise 6: Tidying the Tuberculosis Data</b></div> \n",
    "\n",
    "Note that `m014` represents males aged 0-14, `f014` represents females aged 0-14, etc.  In this exercise, you're going to *tidy* the `m014-f2534` columns by creating a `gender` and `age_group` column.  \n",
    "\n",
    "In the code cell below, write Python code to do the following.<br>\n",
    "\n",
    "1. Use `melt()` to melt the `m014`,  `m1524`,  `m2534`,  `f014`,  `f1524`,  and `f2534` columns into rows and assign it to the data frame `tb_melt`.\n",
    "1. Create a column called `gender` that extracts the first letter of the `variable` column that resulted from the melt (containing the strings `m014`, `m1524`, etc).  Thus, `gender` should be a column containing only the letters `m` or `f`.\n",
    "1. Create a column called `age_group` that extracts the remaining letters of the `variable` column that resulted from the melt (containing the strings `m014`, `m1524`, etc).  Thus, `age_group` should be a column containing only values such as `014`,  `1524`,  or `2534`.\n",
    "1. Finally, drop the `variable` column from the `tb_melt` data frame using the `drop()` method (since it's not needed any more)--you may want to review page 120 of the Course Notes to remember how to do this.\n",
    "1. Print `tb_melt.head()`.\n",
    "1. Print `tb_melt.tail()`.\n",
    "\n",
    "The output from my solution is:<br>\n",
    "<code>\n",
    "  country  year  value gender age_group\n",
    "0      AD  2000    0.0      m       014\n",
    "1      AE  2000    2.0      m       014\n",
    "2      AF  2000   52.0      m       014\n",
    "3      AG  2000    0.0      m       014\n",
    "4      AL  2000    2.0      m       014\n",
    "</code><code>\n",
    "     country  year   value gender age_group\n",
    "1201      YE  2000   627.0      f      2534\n",
    "1202      YU  2000     NaN      f      2534\n",
    "1203      ZA  2000  1716.0      f      2534\n",
    "1204      ZM  2000  1118.0      f      2534\n",
    "1205      ZW  2000     NaN      f      2534\n",
    "</code>"
   ]
  },
  {
   "cell_type": "code",
   "execution_count": 11,
   "metadata": {},
   "outputs": [
    {
     "name": "stdout",
     "output_type": "stream",
     "text": [
      "  country  year  value gender age_group\n",
      "0      AD  2000    0.0      m       014\n",
      "1      AE  2000    2.0      m       014\n",
      "2      AF  2000   52.0      m       014\n",
      "3      AG  2000    0.0      m       014\n",
      "4      AL  2000    2.0      m       014\n",
      "     country  year   value gender age_group\n",
      "1201      YE  2000   627.0      f      2534\n",
      "1202      YU  2000     NaN      f      2534\n",
      "1203      ZA  2000  1716.0      f      2534\n",
      "1204      ZM  2000  1118.0      f      2534\n",
      "1205      ZW  2000     NaN      f      2534\n"
     ]
    }
   ],
   "source": [
    "tb_melt = tb.melt(id_vars=['country','year'], value_vars = ['m014', 'm1524', 'm2534', 'f014', 'f1524', 'f2534'])\n",
    "tb_melt['gender'] = tb_melt['variable'].str[0]\n",
    "tb_melt['age_group'] = tb_melt['variable'].str[1:]\n",
    "tb_melt.drop('variable', axis = 1, inplace = True)\n",
    "print(tb_melt.head())\n",
    "print(tb_melt.tail())"
   ]
  },
  {
   "cell_type": "markdown",
   "metadata": {},
   "source": [
    "This data is now tidy and hopefully would be easier to analyze!"
   ]
  }
 ],
 "metadata": {
  "celltoolbar": "Raw Cell Format",
  "kernelspec": {
   "display_name": "Python 3 (ipykernel)",
   "language": "python",
   "name": "python3"
  },
  "language_info": {
   "codemirror_mode": {
    "name": "ipython",
    "version": 3
   },
   "file_extension": ".py",
   "mimetype": "text/x-python",
   "name": "python",
   "nbconvert_exporter": "python",
   "pygments_lexer": "ipython3",
   "version": "3.9.7"
  }
 },
 "nbformat": 4,
 "nbformat_minor": 2
}

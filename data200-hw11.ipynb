{
 "cells": [
  {
   "cell_type": "markdown",
   "metadata": {},
   "source": [
    "# Data 200: Database Systems and Data Management for Data Analytics\n"
   ]
  },
  {
   "cell_type": "markdown",
   "metadata": {},
   "source": [
    "# Homework 11: Operations on JSON Files\n",
    "\n",
    "**Dickinson College**<br/>\n",
    "**Spring 2022**<br/>\n",
    "**Instructor:** Dick Forrester<br/>\n",
    "<font color='red'>**Due Date and Time:** 11:59pm on Monday, 4/18/2022 </font>\n",
    "---\n",
    "Enter your name in the markdown cell below."
   ]
  },
  {
   "cell_type": "markdown",
   "metadata": {},
   "source": [
    "# Name: Zimeng Liu"
   ]
  },
  {
   "cell_type": "code",
   "execution_count": 1,
   "metadata": {},
   "outputs": [
    {
     "data": {
      "text/html": [
       "<style>\n",
       "blockquote { background: #AEDE94; }\n",
       "h1 { \n",
       "    padding-top: 25px;\n",
       "    padding-bottom: 25px;\n",
       "    text-align: left; \n",
       "    padding-left: 10px;\n",
       "    background-color: #DDDDDD; \n",
       "    color: black;\n",
       "}\n",
       "h2 { \n",
       "    padding-top: 10px;\n",
       "    padding-bottom: 10px;\n",
       "    text-align: left; \n",
       "    padding-left: 5px;\n",
       "    background-color: #EEEEEE; \n",
       "    color: black;\n",
       "}\n",
       "\n",
       "div.exercise {\n",
       "\tbackground-color: #ffcccc;\n",
       "\tborder-color: #E9967A; \t\n",
       "\tborder-left: 5px solid #800080; \n",
       "\tpadding: 0.5em;\n",
       "}\n",
       "\n",
       "div.exercise-r {\n",
       "\tbackground-color: #fce8e8;\n",
       "\tborder-color: #E9967A; \t\n",
       "\tborder-left: 5px solid #800080; \n",
       "\tpadding: 0.5em;\n",
       "}\n",
       "\n",
       "\n",
       "span.sub-q {\n",
       "\tfont-weight: bold;\n",
       "}\n",
       "div.theme {\n",
       "\tbackground-color: #DDDDDD;\n",
       "\tborder-color: #E9967A; \t\n",
       "\tborder-left: 5px solid #800080; \n",
       "\tpadding: 0.5em;\n",
       "\tfont-size: 18pt;\n",
       "}\n",
       "div.gc { \n",
       "\tbackground-color: #AEDE94;\n",
       "\tborder-color: #E9967A; \t \n",
       "\tborder-left: 5px solid #800080; \n",
       "\tpadding: 0.5em;\n",
       "\tfont-size: 12pt;\n",
       "}\n",
       "p.q1 { \n",
       "    padding-top: 5px;\n",
       "    padding-bottom: 5px;\n",
       "    text-align: left; \n",
       "    padding-left: 5px;\n",
       "    background-color: #EEEEEE; \n",
       "    color: black;\n",
       "}\n",
       "header {\n",
       "   padding-top: 35px;\n",
       "    padding-bottom: 35px;\n",
       "    text-align: left; \n",
       "    padding-left: 10px;\n",
       "    background-color: #DDDDDD; \n",
       "    color: black;\n",
       "}\n",
       "</style>\n",
       "\n"
      ],
      "text/plain": [
       "<IPython.core.display.HTML object>"
      ]
     },
     "execution_count": 1,
     "metadata": {},
     "output_type": "execute_result"
    }
   ],
   "source": [
    "## RUN THIS CELL TO GET THE RIGHT FORMATTING AND TO LOAD NumPy\n",
    "import requests\n",
    "import numpy as np\n",
    "from IPython.core.display import HTML\n",
    "styles = requests.get(\"https://raw.githubusercontent.com/Harvard-IACS/2018-CS109A/master/content/styles/cs109.css\").text\n",
    "HTML(styles)"
   ]
  },
  {
   "cell_type": "markdown",
   "metadata": {},
   "source": [
    "# Tasks\n",
    "\n",
    "- Review pages 281-322 in the Course Notes.\n",
    "- Complete the **Creating Plots on Data Aware Grids** chapter of the **Intermediate Data Visualization with Seaborn** course on DataCamp.\n",
    "- Complete the **Creating and Manipulating Your Own Databases** and **Putting it all Together** chapters of the **Introduction to Databases in Python** course on DataCamp.\n",
    "- Complete the **Key-Value Databases** and **Document Databases** chapters of the **NoSQL Concepts** course on DataCamp.\n",
    "- E-mail me your completed Jupyter notebook."
   ]
  },
  {
   "cell_type": "markdown",
   "metadata": {},
   "source": [
    "# Exercises"
   ]
  },
  {
   "cell_type": "markdown",
   "metadata": {},
   "source": [
    "This homework involves processing a file, `slac.json`, that contains\n",
    "JSON-formatted data for the course catalog at a Small Liberal Arts College (slac)."
   ]
  },
  {
   "cell_type": "markdown",
   "metadata": {},
   "source": [
    "**Run the code cell below to import the libraries we will use in this homework, and to set the data directory.**"
   ]
  },
  {
   "cell_type": "code",
   "execution_count": 2,
   "metadata": {},
   "outputs": [],
   "source": [
    "import os.path\n",
    "from lxml import etree\n",
    "import json\n",
    "import pandas as pd\n",
    "import util\n",
    "\n",
    "datadir=\"hw11Data\""
   ]
  },
  {
   "cell_type": "markdown",
   "metadata": {},
   "source": [
    "<div class=\"exercise\"><b>Exercise 1:</b></div> \n",
    "\n",
    "Open the `slac.json` file using a **text editor** and inspect the file to understand it's structure:\n",
    "\n",
    "\n",
    "- The top level is a dictionary, with only one key (`course`) that maps to a list of dictionaries,\n",
    "- Each of these dictionaries describes exactly one course offering, with fields about the course, including `reg_num`, `title`, etc.\n",
    "- Two of the entries within these dictionaries are dictionaries themselves."
   ]
  },
  {
   "cell_type": "markdown",
   "metadata": {},
   "source": [
    "<div class=\"exercise\"><b>Exercise 2:</b></div> \n",
    "\n",
    "Write Python code to \n",
    "- Read in the JSON-formatted data from the `slac.json` file and generate a data structure called `slac` that contains the parsed data.  **Note:** The `slac.json` file is stored in the `hw11Data` folder.  Furthermore, we already defined `datadir = hw11Data` in the same code cell where we imported the needed Python libraries.  **Please use `os.path.join()`** to set the path to the JSON file.\n",
    "- Use the utility function `util.print_data()` to print the first 38 lines of the data structure."
   ]
  },
  {
   "cell_type": "code",
   "execution_count": 3,
   "metadata": {},
   "outputs": [
    {
     "name": "stdout",
     "output_type": "stream",
     "text": [
      "{\n",
      "  \"course\": [\n",
      "    {\n",
      "      \"reg_num\": \"10577\",\n",
      "      \"subj\": \"ANTH\",\n",
      "      \"crse\": \"211\",\n",
      "      \"sect\": \"F01\",\n",
      "      \"title\": \"Introduction to Anthropology\",\n",
      "      \"units\": \"1.0\",\n",
      "      \"instructor\": \"Brightman\",\n",
      "      \"days\": \"M-W\",\n",
      "      \"time\": {\n",
      "        \"start_time\": \"03:10PM\",\n",
      "        \"end_time\": \"04:30\"\n",
      "      },\n",
      "      \"place\": {\n",
      "        \"building\": \"ELIOT\",\n",
      "        \"room\": \"414\"\n",
      "      }\n",
      "    },\n",
      "    {\n",
      "      \"reg_num\": \"20573\",\n",
      "      \"subj\": \"ANTH\",\n",
      "      \"crse\": \"344\",\n",
      "      \"sect\": \"S01\",\n",
      "      \"title\": \"Sex and Gender\",\n",
      "      \"units\": \"1.0\",\n",
      "      \"instructor\": \"Makley\",\n",
      "      \"days\": \"T-Th\",\n",
      "      \"time\": {\n",
      "        \"start_time\": \"10:30AM\",\n",
      "        \"end_time\": \"11:50\"\n",
      "      },\n",
      "      \"place\": {\n",
      "        \"building\": \"VOLLUM\",\n",
      "        \"room\": \"120\"\n",
      "      }\n",
      "    },\n"
     ]
    }
   ],
   "source": [
    "slac = os.path.join(datadir, \"slac.json\")\n",
    "with open(slac) as  file:\n",
    "    slac = json.load(file)\n",
    "util.print_data(slac, nlines=38)"
   ]
  },
  {
   "cell_type": "markdown",
   "metadata": {},
   "source": [
    "<div class=\"exercise\"><b>Exercise 3:</b></div> \n",
    "\n",
    "Write code to iterate over the first 5 elements of the course list contained in `slac` and print\n",
    "out the course title and registrar number. This is a little tricky because `slac` is a dictionary, that contains a list of dictionaries.  Please study the output from the previous exercise carefully.  Note that in my solution, I simply used standard Python techniques for accessing lists and dictionaries.\n",
    "\n",
    "Below is my output--your code should mimic it.\n",
    "\n",
    "<code>\n",
    "Introduction to Anthropology  (10577)\n",
    "Sex and Gender  (20573)\n",
    "Field Biology of Amphibians  (10624)\n",
    "Bacterial Pathogenesis  (10626)\n",
    "Seminar in Biology  (20626)\n",
    "</code>"
   ]
  },
  {
   "cell_type": "code",
   "execution_count": 4,
   "metadata": {},
   "outputs": [
    {
     "name": "stdout",
     "output_type": "stream",
     "text": [
      "Introduction to Anthropology  (10577)\n",
      "Sex and Gender  (20573)\n",
      "Field Biology of Amphibians  (10624)\n",
      "Bacterial Pathogenesis  (10626)\n",
      "Seminar in Biology  (20626)\n"
     ]
    }
   ],
   "source": [
    "lis = slac['course']\n",
    "for item in lis[:5]:\n",
    "    print(item['title']+'  ('+item['reg_num']+')')"
   ]
  },
  {
   "cell_type": "markdown",
   "metadata": {},
   "source": [
    "<div class=\"exercise\"><b>Exercise 4:</b></div> \n",
    "\n",
    "Write a function `slacDataFrame(data)` that creates and returns a Pandas data frame from the `slac` data. There should be\n",
    "a row per course, and columns named as they are in the dictionary used to represent each course, but skipping the \"time\" and \"place\" sub-dictionaries. The data frame should have `reg_num` as the row index.   **Hint:** In my solution I deleted the \"time\" and \"place\" sub-dictionaries before passing the data into `pd.DataFrame()`. However, not all courses have this data, so I tested if \"time\" was contained in a course, and if so, I deleted it.  I did the same for \"place\".\n",
    "\n",
    "In the second code cell below you will test your function by finding passing in `slac`. The output from my solution is as follows (note that `reg_num` is the index):<br>\n",
    "\n",
    "<code>\n",
    "             subj crse sect                         title units instructor  days\n",
    "reg_num                                                                     \n",
    "10577    ANTH  211  F01  Introduction to Anthropology   1.0  Brightman   M-W\n",
    "20573    ANTH  344  S01                Sex and Gender   1.0     Makley  T-Th\n",
    "10624    BIOL  431  F01   Field Biology of Amphibians   0.5     Kaplan     T\n",
    "10626    BIOL  431  F03        Bacterial Pathogenesis   0.5        NaN   NaN\n",
    "20626    BIOL  431  S04            Seminar in Biology   0.5  Yezerinac    Th\n",
    "</code>"
   ]
  },
  {
   "cell_type": "code",
   "execution_count": 5,
   "metadata": {},
   "outputs": [],
   "source": [
    "def slacDataFrame(data):\n",
    "    LoD = []\n",
    "    lis = data['course']\n",
    "    for rowD in lis:\n",
    "        rowD = rowD.copy()\n",
    "        LoD.append(rowD)\n",
    "        \n",
    "    df = pd.DataFrame(LoD)\n",
    "    df.set_index('reg_num',inplace=True)\n",
    "    df = df.drop(['time', 'place'], axis=1, errors='ignore')\n",
    "    return df"
   ]
  },
  {
   "cell_type": "markdown",
   "metadata": {},
   "source": [
    "**Run the code cell below to test your function and make sure it matches my output.**  Note that I make a copy of `slac` before passing it into the function because my function modfies the data passed in.  Specifically, I use the `copy.deepcopy()` function.  I encourage you to read about this function on the web."
   ]
  },
  {
   "cell_type": "code",
   "execution_count": 6,
   "metadata": {},
   "outputs": [
    {
     "name": "stdout",
     "output_type": "stream",
     "text": [
      "         subj crse sect                         title units instructor  days\n",
      "reg_num                                                                     \n",
      "10577    ANTH  211  F01  Introduction to Anthropology   1.0  Brightman   M-W\n",
      "20573    ANTH  344  S01                Sex and Gender   1.0     Makley  T-Th\n",
      "10624    BIOL  431  F01   Field Biology of Amphibians   0.5     Kaplan     T\n",
      "10626    BIOL  431  F03        Bacterial Pathogenesis   0.5        NaN   NaN\n",
      "20626    BIOL  431  S04            Seminar in Biology   0.5  Yezerinac    Th\n"
     ]
    }
   ],
   "source": [
    "# Make a copy of slac before passing it in to the function\n",
    "import copy\n",
    "slac_copy = copy.deepcopy(slac)\n",
    "\n",
    "slac_df = slacDataFrame(slac_copy)\n",
    "print(slac_df.head())"
   ]
  },
  {
   "cell_type": "markdown",
   "metadata": {},
   "source": [
    "<div class=\"exercise\"><b>Exercise 5:</b></div> \n",
    "\n",
    "Now write a function `slacDataframe2(data)` that creates and returns a Pandas data frame from the `slac` data from the last\n",
    "exercise. But in this case, traverse the \"time\" and \"place\" sub-dictionaries to populate columns `start_time`, `end_time`, `building`, and `room` in the data frame.  Once again note that not all courses have \"time\" and \"place\". Furthermore, some courses may have \"time\", but not both \"start_time\" and \"end-time\" (the same is true for \"place\").  Therefore, you will need to test for the existence of all of these within your code.  To be honest, it's a pain, but representative of real data!\n",
    "\n",
    "In the second code cell below you will test your function by finding passing in `slac`. The output from my solution is as follows:<br>\n",
    "\n",
    "![Dataframe](dataframe1.png)"
   ]
  },
  {
   "cell_type": "code",
   "execution_count": 7,
   "metadata": {},
   "outputs": [],
   "source": [
    "def slacDataFrame2(data):\n",
    "    LoD = []\n",
    "    lis = data['course']\n",
    "    for rowD in lis:\n",
    "        if 'time' in rowD:\n",
    "            if 'start_time' in rowD['time']:\n",
    "                rowD['start_time'] = rowD['time']['start_time']\n",
    "            if 'end_time' in rowD['time']:\n",
    "                rowD['end_time'] = rowD['time']['end_time']\n",
    "        \n",
    "        if 'place' in rowD:\n",
    "            if 'building' in rowD['place']:\n",
    "                rowD['building'] = rowD['place']['building']\n",
    "            if 'room' in rowD['place']:\n",
    "                rowD['room'] = rowD['place']['room']\n",
    "        del rowD['time']\n",
    "        del rowD['place']\n",
    "        \n",
    "        LoD.append(rowD)\n",
    "        \n",
    "    df = pd.DataFrame(LoD)\n",
    "    df.set_index('reg_num',inplace=True)\n",
    "    return df"
   ]
  },
  {
   "cell_type": "markdown",
   "metadata": {},
   "source": [
    "**Run the code cell below to test your function and make sure it matches my output.** "
   ]
  },
  {
   "cell_type": "code",
   "execution_count": 8,
   "metadata": {},
   "outputs": [
    {
     "data": {
      "text/html": [
       "<div>\n",
       "<style scoped>\n",
       "    .dataframe tbody tr th:only-of-type {\n",
       "        vertical-align: middle;\n",
       "    }\n",
       "\n",
       "    .dataframe tbody tr th {\n",
       "        vertical-align: top;\n",
       "    }\n",
       "\n",
       "    .dataframe thead th {\n",
       "        text-align: right;\n",
       "    }\n",
       "</style>\n",
       "<table border=\"1\" class=\"dataframe\">\n",
       "  <thead>\n",
       "    <tr style=\"text-align: right;\">\n",
       "      <th></th>\n",
       "      <th>subj</th>\n",
       "      <th>crse</th>\n",
       "      <th>sect</th>\n",
       "      <th>title</th>\n",
       "      <th>units</th>\n",
       "      <th>instructor</th>\n",
       "      <th>days</th>\n",
       "      <th>start_time</th>\n",
       "      <th>end_time</th>\n",
       "      <th>building</th>\n",
       "      <th>room</th>\n",
       "    </tr>\n",
       "    <tr>\n",
       "      <th>reg_num</th>\n",
       "      <th></th>\n",
       "      <th></th>\n",
       "      <th></th>\n",
       "      <th></th>\n",
       "      <th></th>\n",
       "      <th></th>\n",
       "      <th></th>\n",
       "      <th></th>\n",
       "      <th></th>\n",
       "      <th></th>\n",
       "      <th></th>\n",
       "    </tr>\n",
       "  </thead>\n",
       "  <tbody>\n",
       "    <tr>\n",
       "      <th>10577</th>\n",
       "      <td>ANTH</td>\n",
       "      <td>211</td>\n",
       "      <td>F01</td>\n",
       "      <td>Introduction to Anthropology</td>\n",
       "      <td>1.0</td>\n",
       "      <td>Brightman</td>\n",
       "      <td>M-W</td>\n",
       "      <td>03:10PM</td>\n",
       "      <td>04:30</td>\n",
       "      <td>ELIOT</td>\n",
       "      <td>414</td>\n",
       "    </tr>\n",
       "    <tr>\n",
       "      <th>20573</th>\n",
       "      <td>ANTH</td>\n",
       "      <td>344</td>\n",
       "      <td>S01</td>\n",
       "      <td>Sex and Gender</td>\n",
       "      <td>1.0</td>\n",
       "      <td>Makley</td>\n",
       "      <td>T-Th</td>\n",
       "      <td>10:30AM</td>\n",
       "      <td>11:50</td>\n",
       "      <td>VOLLUM</td>\n",
       "      <td>120</td>\n",
       "    </tr>\n",
       "    <tr>\n",
       "      <th>10624</th>\n",
       "      <td>BIOL</td>\n",
       "      <td>431</td>\n",
       "      <td>F01</td>\n",
       "      <td>Field Biology of Amphibians</td>\n",
       "      <td>0.5</td>\n",
       "      <td>Kaplan</td>\n",
       "      <td>T</td>\n",
       "      <td>06:10PM</td>\n",
       "      <td>08:00</td>\n",
       "      <td>PHYSIC</td>\n",
       "      <td>240A</td>\n",
       "    </tr>\n",
       "    <tr>\n",
       "      <th>10626</th>\n",
       "      <td>BIOL</td>\n",
       "      <td>431</td>\n",
       "      <td>F03</td>\n",
       "      <td>Bacterial Pathogenesis</td>\n",
       "      <td>0.5</td>\n",
       "      <td>NaN</td>\n",
       "      <td>NaN</td>\n",
       "      <td>NaN</td>\n",
       "      <td>NaN</td>\n",
       "      <td>NaN</td>\n",
       "      <td>240B</td>\n",
       "    </tr>\n",
       "    <tr>\n",
       "      <th>20626</th>\n",
       "      <td>BIOL</td>\n",
       "      <td>431</td>\n",
       "      <td>S04</td>\n",
       "      <td>Seminar in Biology</td>\n",
       "      <td>0.5</td>\n",
       "      <td>Yezerinac</td>\n",
       "      <td>Th</td>\n",
       "      <td>06:10PM</td>\n",
       "      <td>08:00</td>\n",
       "      <td>BIOL</td>\n",
       "      <td>200A</td>\n",
       "    </tr>\n",
       "  </tbody>\n",
       "</table>\n",
       "</div>"
      ],
      "text/plain": [
       "         subj crse sect                         title units instructor  days  \\\n",
       "reg_num                                                                        \n",
       "10577    ANTH  211  F01  Introduction to Anthropology   1.0  Brightman   M-W   \n",
       "20573    ANTH  344  S01                Sex and Gender   1.0     Makley  T-Th   \n",
       "10624    BIOL  431  F01   Field Biology of Amphibians   0.5     Kaplan     T   \n",
       "10626    BIOL  431  F03        Bacterial Pathogenesis   0.5        NaN   NaN   \n",
       "20626    BIOL  431  S04            Seminar in Biology   0.5  Yezerinac    Th   \n",
       "\n",
       "        start_time end_time building  room  \n",
       "reg_num                                     \n",
       "10577      03:10PM    04:30    ELIOT   414  \n",
       "20573      10:30AM    11:50   VOLLUM   120  \n",
       "10624      06:10PM    08:00   PHYSIC  240A  \n",
       "10626          NaN      NaN      NaN  240B  \n",
       "20626      06:10PM    08:00     BIOL  200A  "
      ]
     },
     "execution_count": 8,
     "metadata": {},
     "output_type": "execute_result"
    }
   ],
   "source": [
    "# Make a copy of slac\n",
    "slac_copy = copy.deepcopy(slac)\n",
    "\n",
    "slac_df2 = slacDataFrame2(slac_copy)\n",
    "slac_df2.head()"
   ]
  },
  {
   "cell_type": "code",
   "execution_count": null,
   "metadata": {},
   "outputs": [],
   "source": []
  }
 ],
 "metadata": {
  "celltoolbar": "Raw Cell Format",
  "kernelspec": {
   "display_name": "Python 3 (ipykernel)",
   "language": "python",
   "name": "python3"
  },
  "language_info": {
   "codemirror_mode": {
    "name": "ipython",
    "version": 3
   },
   "file_extension": ".py",
   "mimetype": "text/x-python",
   "name": "python",
   "nbconvert_exporter": "python",
   "pygments_lexer": "ipython3",
   "version": "3.9.7"
  }
 },
 "nbformat": 4,
 "nbformat_minor": 2
}

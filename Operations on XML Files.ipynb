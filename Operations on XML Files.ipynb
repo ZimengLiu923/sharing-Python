{
 "cells": [
  {
   "cell_type": "markdown",
   "metadata": {},
   "source": [
    "# Data 200: Database Systems and Data Management for Data Analytics\n"
   ]
  },
  {
   "cell_type": "markdown",
   "metadata": {},
   "source": [
    "# Homework 12: Operations on XML Files\n",
    "\n",
    "**Dickinson College**<br/>\n",
    "**Spring 2022**<br/>\n",
    "**Instructor:** Dick Forrester<br/>\n",
    "<font color='red'>**Due Date and Time:** 11:59pm on Thursday, 4/21/2022 </font>\n",
    "---\n",
    "Enter your name in the markdown cell below."
   ]
  },
  {
   "cell_type": "markdown",
   "metadata": {},
   "source": [
    "# Name: Zimeng Liu"
   ]
  },
  {
   "cell_type": "code",
   "execution_count": 1,
   "metadata": {},
   "outputs": [
    {
     "data": {
      "text/html": [
       "<style>\n",
       "blockquote { background: #AEDE94; }\n",
       "h1 { \n",
       "    padding-top: 25px;\n",
       "    padding-bottom: 25px;\n",
       "    text-align: left; \n",
       "    padding-left: 10px;\n",
       "    background-color: #DDDDDD; \n",
       "    color: black;\n",
       "}\n",
       "h2 { \n",
       "    padding-top: 10px;\n",
       "    padding-bottom: 10px;\n",
       "    text-align: left; \n",
       "    padding-left: 5px;\n",
       "    background-color: #EEEEEE; \n",
       "    color: black;\n",
       "}\n",
       "\n",
       "div.exercise {\n",
       "\tbackground-color: #ffcccc;\n",
       "\tborder-color: #E9967A; \t\n",
       "\tborder-left: 5px solid #800080; \n",
       "\tpadding: 0.5em;\n",
       "}\n",
       "\n",
       "div.exercise-r {\n",
       "\tbackground-color: #fce8e8;\n",
       "\tborder-color: #E9967A; \t\n",
       "\tborder-left: 5px solid #800080; \n",
       "\tpadding: 0.5em;\n",
       "}\n",
       "\n",
       "\n",
       "span.sub-q {\n",
       "\tfont-weight: bold;\n",
       "}\n",
       "div.theme {\n",
       "\tbackground-color: #DDDDDD;\n",
       "\tborder-color: #E9967A; \t\n",
       "\tborder-left: 5px solid #800080; \n",
       "\tpadding: 0.5em;\n",
       "\tfont-size: 18pt;\n",
       "}\n",
       "div.gc { \n",
       "\tbackground-color: #AEDE94;\n",
       "\tborder-color: #E9967A; \t \n",
       "\tborder-left: 5px solid #800080; \n",
       "\tpadding: 0.5em;\n",
       "\tfont-size: 12pt;\n",
       "}\n",
       "p.q1 { \n",
       "    padding-top: 5px;\n",
       "    padding-bottom: 5px;\n",
       "    text-align: left; \n",
       "    padding-left: 5px;\n",
       "    background-color: #EEEEEE; \n",
       "    color: black;\n",
       "}\n",
       "header {\n",
       "   padding-top: 35px;\n",
       "    padding-bottom: 35px;\n",
       "    text-align: left; \n",
       "    padding-left: 10px;\n",
       "    background-color: #DDDDDD; \n",
       "    color: black;\n",
       "}\n",
       "</style>\n",
       "\n"
      ],
      "text/plain": [
       "<IPython.core.display.HTML object>"
      ]
     },
     "execution_count": 1,
     "metadata": {},
     "output_type": "execute_result"
    }
   ],
   "source": [
    "## RUN THIS CELL TO GET THE RIGHT FORMATTING AND TO LOAD NumPy\n",
    "import requests\n",
    "import numpy as np\n",
    "from IPython.core.display import HTML\n",
    "styles = requests.get(\"https://raw.githubusercontent.com/Harvard-IACS/2018-CS109A/master/content/styles/cs109.css\").text\n",
    "HTML(styles)"
   ]
  },
  {
   "cell_type": "markdown",
   "metadata": {},
   "source": [
    "# Tasks\n",
    "\n",
    "- Review pages 322-334 in the Course Notes.\n",
    "- Complete the **Column Family Databases** and **Graph Databases** chapters of the **NoSQL Concepts** course on DataCamp.\n",
    "- E-mail me your completed Jupyter notebook."
   ]
  },
  {
   "cell_type": "markdown",
   "metadata": {},
   "source": [
    "# Exercises"
   ]
  },
  {
   "cell_type": "markdown",
   "metadata": {},
   "source": [
    "**Run the code cell below to import the libraries we will use in this homework and to set the data directory.**  Make sure that the folder `hw12Data` is in the same folder as this notebook."
   ]
  },
  {
   "cell_type": "code",
   "execution_count": 2,
   "metadata": {},
   "outputs": [],
   "source": [
    "import os.path\n",
    "from lxml import etree\n",
    "import pandas as pd\n",
    "import json\n",
    "import util\n",
    "\n",
    "datadir=\"hw12Data\""
   ]
  },
  {
   "cell_type": "markdown",
   "metadata": {},
   "source": [
    "<div class=\"exercise\"><b>Exercise 1:</b></div> \n",
    "\n",
    "Open the `breakfast.xml` file using a **text editor** and inspect the file to understand its structure."
   ]
  },
  {
   "cell_type": "markdown",
   "metadata": {},
   "source": [
    "In the code cell below, we define a function `getLocalXML(filename, datadir)` that performs the common steps of creating a path from the given `filename` and `datadir` and parses the XML file.  The function returns the `Element` at the root of the tree.  If the file is not found, or the parse is unsuccessful (due to the XML not being \"well-formed\"), the function returns `None`.\n",
    "\n",
    "**Please study and run the code cell below.**"
   ]
  },
  {
   "cell_type": "code",
   "execution_count": 3,
   "metadata": {},
   "outputs": [],
   "source": [
    "def getLocalXML(filename, datadir=\".\"):\n",
    "    # Set the data directory\n",
    "    xmlPath = os.path.join(datadir, filename)\n",
    "    \n",
    "    try:\n",
    "        tree = etree.parse(xmlPath)   # Use the standard parser\n",
    "        root = tree.getroot()\n",
    "        return root\n",
    "    except:\n",
    "        print(\"Exception in parsing XML\")\n",
    "        return None"
   ]
  },
  {
   "cell_type": "markdown",
   "metadata": {},
   "source": [
    "In the code cell below, we use the `getLocalXML()` function to parse the `breakfast.xml` file and assign the root to `broot`.\n",
    "\n",
    "**Study and run the code cell below.**"
   ]
  },
  {
   "cell_type": "code",
   "execution_count": 4,
   "metadata": {},
   "outputs": [],
   "source": [
    "broot = getLocalXML(\"breakfast.xml\", datadir)"
   ]
  },
  {
   "cell_type": "markdown",
   "metadata": {},
   "source": [
    "<div class=\"exercise\"><b>Exercise 2:</b></div> \n",
    "\n",
    "Using a for-loop, print out all the attributes of the children of the root `broot`.  Note that you will need to use `.attrib` for each child of the root.  *You may want to review page 314 of the Course Notes as this is somewhat similar.*\n",
    "\n",
    "Below is the output from my solution.\n",
    "\n",
    "<code>\n",
    "{'price': '5.95', 'calories': '650'}\n",
    "{'price': '7.95', 'calories': '900'}\n",
    "{'price': '8.95', 'calories': '900'}\n",
    "{'price': '4.5', 'calories': '600'}\n",
    "{'price': '6.95', 'calories': '950'}\n",
    "</code>"
   ]
  },
  {
   "cell_type": "code",
   "execution_count": 5,
   "metadata": {},
   "outputs": [
    {
     "name": "stdout",
     "output_type": "stream",
     "text": [
      "{'price': '5.95', 'calories': '650'}\n",
      "{'price': '7.95', 'calories': '900'}\n",
      "{'price': '8.95', 'calories': '900'}\n",
      "{'price': '4.5', 'calories': '600'}\n",
      "{'price': '6.95', 'calories': '950'}\n"
     ]
    }
   ],
   "source": [
    "pricelist = broot.findall('food')\n",
    "\n",
    "for food in pricelist:\n",
    "    print(food.attrib)"
   ]
  },
  {
   "cell_type": "markdown",
   "metadata": {},
   "source": [
    "<div class=\"exercise\"><b>Exercise 3:</b></div> \n",
    "\n",
    "We would like to create a Python list called `food_list` that contains all the names of the food in the Breakfast data set.  To accomplish this, you should use a for-loop over all the children of the root `broot` and use the `.find()` method to find the tag `'name'`, and then use `.append()` to append the item to the list.  After the list has been completed, use `print(food_list)` to print the list.  *You may find it helpful to review page 313 of the Course Notes.*\n",
    "\n",
    "Below is the output from my solution.\n",
    "\n",
    "<code>\n",
    "['Belgian Waffles',\n",
    " 'Strawberry Belgian Waffles',\n",
    " 'Berry-Berry Belgian Waffles',\n",
    " 'French Toast',\n",
    " 'Homestyle Breakfast']\n",
    "</code>"
   ]
  },
  {
   "cell_type": "code",
   "execution_count": 6,
   "metadata": {},
   "outputs": [
    {
     "name": "stdout",
     "output_type": "stream",
     "text": [
      "['Belgian Waffles', 'Strawberry Belgian Waffles', 'Berry-Berry Belgian Waffles', 'French Toast', 'Homestyle Breakfast']\n"
     ]
    }
   ],
   "source": [
    "food_list = []\n",
    "\n",
    "for item in broot:\n",
    "    name = item.find('name')\n",
    "    food_list.append(name.text)\n",
    "    \n",
    "print(food_list)"
   ]
  },
  {
   "cell_type": "markdown",
   "metadata": {},
   "source": [
    "<div class=\"exercise\"><b>Exercise 4:</b></div> \n",
    "\n",
    "We would like to create a data frame `df_breakfast` of the Breakfast data (without the `description`).  To accomplish this, create a list of dictionaries (LoD) that contains a dictionary for each of the food items.  Set the index of the data frame to be the names of the food.  Finally, print the data frame.  *You may want to review page 328 of the Course Notes, but keep in mind that this problem is easier than what is presented in the notes.*\n",
    "\n",
    "Below is the output from my solution.\n",
    "\n",
    "<code>\n",
    "                            price calories\n",
    "name                                      \n",
    "Belgian Waffles              5.95      650\n",
    "Strawberry Belgian Waffles   7.95      900\n",
    "Berry-Berry Belgian Waffles  8.95      900\n",
    "French Toast                  4.5      600\n",
    "Homestyle Breakfast          6.95      950\n",
    "</code>"
   ]
  },
  {
   "cell_type": "code",
   "execution_count": 7,
   "metadata": {},
   "outputs": [
    {
     "name": "stdout",
     "output_type": "stream",
     "text": [
      "                            price calories\n",
      "name                                      \n",
      "Belgian Waffles              5.95      650\n",
      "Strawberry Belgian Waffles   7.95      900\n",
      "Berry-Berry Belgian Waffles  8.95      900\n",
      "French Toast                  4.5      600\n",
      "Homestyle Breakfast          6.95      950\n"
     ]
    }
   ],
   "source": [
    "LoD = []\n",
    "\n",
    "for item in broot:\n",
    "    price = item.get('price')\n",
    "    calories = item.get('calories')\n",
    "    rowD = {'price': price, 'calories': calories}\n",
    "    name = item.find('name')\n",
    "    rowD['name'] = name.text\n",
    "        \n",
    "    LoD.append(rowD)\n",
    "    \n",
    "df = pd.DataFrame(LoD)\n",
    "df.set_index(['name'],inplace=True)\n",
    "print(df)\n"
   ]
  },
  {
   "cell_type": "markdown",
   "metadata": {},
   "source": [
    "<div class=\"exercise\"><b>Exercise 5:</b></div> \n",
    "\n",
    "Reusing your code from Exercise 4, create a function `makeBreakfastDF(broot)` that *returns* a data frame from the Breakfast data (when passed the root of the XML tree).  In other words, just turn your code from the previous exercise into a function.  Be sure to test your function using:\n",
    "\n",
    "<code>\n",
    "df_breakfast = makeBreakfastDF(broot)\n",
    "print(df_breakfast)\n",
    "</code>\n",
    "\n",
    "This should yield the same output as the previous exercise."
   ]
  },
  {
   "cell_type": "code",
   "execution_count": 8,
   "metadata": {},
   "outputs": [
    {
     "name": "stdout",
     "output_type": "stream",
     "text": [
      "                            price calories\n",
      "name                                      \n",
      "Belgian Waffles              5.95      650\n",
      "Strawberry Belgian Waffles   7.95      900\n",
      "Berry-Berry Belgian Waffles  8.95      900\n",
      "French Toast                  4.5      600\n",
      "Homestyle Breakfast          6.95      950\n"
     ]
    }
   ],
   "source": [
    "def makeBreakfastDF(broot):\n",
    "    LoD = []\n",
    "\n",
    "    for item in broot:\n",
    "        price = item.get('price')\n",
    "        calories = item.get('calories')\n",
    "        rowD = {'price': price, 'calories': calories}\n",
    "        name = item.find('name')\n",
    "        rowD['name'] = name.text\n",
    "        \n",
    "        LoD.append(rowD)\n",
    "    \n",
    "    df = pd.DataFrame(LoD)\n",
    "    df.set_index(['name'],inplace=True)\n",
    "    return df\n",
    "    \n",
    "    \n",
    "df_breakfast = makeBreakfastDF(broot)\n",
    "print(df_breakfast)"
   ]
  },
  {
   "cell_type": "markdown",
   "metadata": {},
   "source": [
    "<div class=\"exercise\"><b>Exercise 6:</b></div> \n",
    "\n",
    "The goal of this exercise is to create a function `addBreakfastFood(broot, price, calories, name, description)` that adds an item to the Breakfast data when passed the root of the tree and the data associated with the food item.  **Note:** This item should be added to the XML data, *not* the data frame you created in the last exercise.\n",
    "\n",
    "**Run the code cell below to define a new breakfast item that we would like to add to the menu.**"
   ]
  },
  {
   "cell_type": "code",
   "execution_count": 9,
   "metadata": {},
   "outputs": [],
   "source": [
    "price = 2.50\n",
    "calories = 780\n",
    "name = \"Chocolate Chip Muffin\"\n",
    "description = \"A large chocolate chip muffin with a crispy top and a fluffy middle\""
   ]
  },
  {
   "cell_type": "markdown",
   "metadata": {},
   "source": [
    "**In the code cell below, write the function `addBreakfastFood(broot, price, calories, name, description)` that adds the item to the Breakfast data.**"
   ]
  },
  {
   "cell_type": "code",
   "execution_count": 10,
   "metadata": {},
   "outputs": [],
   "source": [
    "def addBreakfastFood(broot, price, calories, name, description):\n",
    "    food = etree.Element('food',price=str(price), calories=str(calories))\n",
    "    Name = etree.Element('name')\n",
    "    Name.text = name\n",
    "    Description = etree.Element('description')\n",
    "    Description.text = description\n",
    "    food.append(Name)\n",
    "    food.append(Description)\n",
    "    broot.append(food)"
   ]
  },
  {
   "cell_type": "markdown",
   "metadata": {},
   "source": [
    "**Run the code cell below to test your function.**  \n",
    "\n",
    "Note that the output should be as follows:\n",
    "<code>\n",
    "                            price calories\n",
    "name                                      \n",
    "Belgian Waffles              5.95      650\n",
    "Strawberry Belgian Waffles   7.95      900\n",
    "Berry-Berry Belgian Waffles  8.95      900\n",
    "French Toast                  4.5      600\n",
    "Homestyle Breakfast          6.95      950\n",
    "Chocolate Chip Muffin         2.5      780\n",
    "<\\/code> "
   ]
  },
  {
   "cell_type": "code",
   "execution_count": 11,
   "metadata": {},
   "outputs": [
    {
     "name": "stdout",
     "output_type": "stream",
     "text": [
      "                            price calories\n",
      "name                                      \n",
      "Belgian Waffles              5.95      650\n",
      "Strawberry Belgian Waffles   7.95      900\n",
      "Berry-Berry Belgian Waffles  8.95      900\n",
      "French Toast                  4.5      600\n",
      "Homestyle Breakfast          6.95      950\n",
      "Chocolate Chip Muffin         2.5      780\n"
     ]
    }
   ],
   "source": [
    "# Add the Chocolate Chip Muffin to the Breakfast data\n",
    "addBreakfastFood(broot, price, calories, name, description)\n",
    "\n",
    "df_breakfast = makeBreakfastDF(broot)\n",
    "print(df_breakfast)"
   ]
  },
  {
   "cell_type": "markdown",
   "metadata": {},
   "source": [
    "<div class=\"exercise\"><b>Exercise 7:</b></div> \n",
    "\n",
    "The goal of this exercise is get some practice reading in a JSON file and exporting it in XML format.  Specifically, we will read in a JSON version of the Breakfast data and convert it to XML.  You should review pages 330-334 of the Course Notes, but keep in mind that this exercise is much easier than the example in the notes.\n",
    "\n",
    "**Run the code cell below to load in the `breakfast.json` data and assign it to `breakDict`.**"
   ]
  },
  {
   "cell_type": "code",
   "execution_count": 12,
   "metadata": {},
   "outputs": [
    {
     "name": "stdout",
     "output_type": "stream",
     "text": [
      "[\n",
      "  {\n",
      "    \"name\": \"Belgian Waffles\",\n",
      "    \"price\": 5.95,\n",
      "    \"description\": \"Two of our famous Belgian Waffles wit...\n",
      "    \"calories\": 650\n",
      "  },\n",
      "  {\n",
      "    \"name\": \"Strawberry Belgian Waffles\",\n",
      "    \"price\": 7.95,\n",
      "    \"description\": \"Light Belgian waffles covered with st...\n",
      "    \"calories\": 900\n",
      "  },\n",
      "  {\n",
      "    \"name\": \"Berry-Berry Belgian Waffles\",\n",
      "    \"price\": 8.95,\n",
      "    \"description\": \"Light Belgian waffles covered with an...\n",
      "    \"calories\": 900\n",
      "  },\n",
      "  {\n",
      "    \"name\": \"French Toast\",\n",
      "    \"price\": 4.5,\n",
      "    \"description\": \"Thick slices made from our homemade s...\n",
      "    \"calories\": 600\n",
      "  },\n",
      "  {\n",
      "    \"name\": \"Homestyle Breakfast\",\n",
      "    \"price\": 6.95,\n",
      "    \"description\": \"Two eggs, bacon or sausage, toast, an...\n",
      "    \"calories\": 950\n",
      "  }\n",
      "]\n"
     ]
    }
   ],
   "source": [
    "# Import the JSON file and assign it to break_json\n",
    "jsonFile = os.path.join(datadir, \"breakfast.json\")\n",
    "with open(jsonFile) as file:\n",
    "    breakDict = json.load(file)\n",
    "\n",
    "# Use the print_data() function of the util module to print the JSON dictionary\n",
    "util.print_data(breakDict)"
   ]
  },
  {
   "cell_type": "markdown",
   "metadata": {},
   "source": [
    "**Write code below that creates an XML tree of the `breakDict` data.  Call the root of the tree `breakRoot` and make sure that the structure/tags of the XML version match the original XML version.  To make things easier, you can assume that there is no missing data.**\n",
    "\n",
    "After you have constructed the tree, use `util.print_xml(breakRoot)` to print the tree.  Below is the output from my solution.\n",
    "\n",
    "`\n",
    "    <Menu>\n",
    "  <food price=\"5.95\" calories=\"650\">\n",
    "    <name>Belgian Waffles</name>\n",
    "    <description>Two of our famous Belgian Waffles with ple\n",
    "  </food>\n",
    "  <food price=\"7.95\" calories=\"900\">\n",
    "    <name>Strawberry Belgian Waffles</name>\n",
    "    <description>Light Belgian waffles covered with strawbe\n",
    "  </food>\n",
    "  <food price=\"8.95\" calories=\"900\">\n",
    "    <name>Berry-Berry Belgian Waffles</name>\n",
    "    <description>Light Belgian waffles covered with an asso\n",
    "  </food>\n",
    "  <food price=\"4.5\" calories=\"600\">\n",
    "    <name>French Toast</name>\n",
    "    <description>Thick slices made from our homemade sourdo\n",
    "  </food>\n",
    "  <food price=\"6.95\" calories=\"950\">\n",
    "    <name>Homestyle Breakfast</name>\n",
    "    <description>Two eggs, bacon or sausage, toast, and our\n",
    "  </food>\n",
    "  </Menu>\n",
    "`"
   ]
  },
  {
   "cell_type": "code",
   "execution_count": 13,
   "metadata": {},
   "outputs": [
    {
     "name": "stdout",
     "output_type": "stream",
     "text": [
      "<Menu>\n",
      "  <food price=\"5.95\" calories=\"650\">\n",
      "    <name>Belgian Waffles</name>\n",
      "    <description>Two of our famous Belgian Waffles with ple\n",
      "  </food>\n",
      "  <food price=\"7.95\" calories=\"900\">\n",
      "    <name>Strawberry Belgian Waffles</name>\n",
      "    <description>Light Belgian waffles covered with strawbe\n",
      "  </food>\n",
      "  <food price=\"8.95\" calories=\"900\">\n",
      "    <name>Berry-Berry Belgian Waffles</name>\n",
      "    <description>Light Belgian waffles covered with an asso\n",
      "  </food>\n",
      "  <food price=\"4.5\" calories=\"600\">\n",
      "    <name>French Toast</name>\n",
      "    <description>Thick slices made from our homemade sourdo\n",
      "  </food>\n",
      "  <food price=\"6.95\" calories=\"950\">\n",
      "    <name>Homestyle Breakfast</name>\n",
      "    <description>Two eggs, bacon or sausage, toast, and our\n",
      "  </food>\n",
      "</Menu>\n"
     ]
    }
   ],
   "source": [
    "breakRoot = etree.Element('Menu')\n",
    "for item in breakDict:\n",
    "    food = etree.Element('food',price=str(item['price']), calories=str(item['calories']))\n",
    "    name = etree.Element('name')\n",
    "    name.text = item['name']\n",
    "    description = etree.Element('description')\n",
    "    description.text = item['description']\n",
    "    food.append(name)\n",
    "    food.append(description)\n",
    "    \n",
    "    breakRoot.append(food)\n",
    "    \n",
    "util.print_xml(breakRoot)"
   ]
  },
  {
   "cell_type": "markdown",
   "metadata": {},
   "source": [
    "<div class=\"exercise\"><b>Exercise 8:</b></div> \n",
    "\n",
    "Now write the XML data to a file called `newBreakfast.xml` in the `hw12Data` folder.  In the second code cell below you will test that it worked correctly by loading in the new file and printing it.  The output from my solution is as follows:\n",
    "\n",
    "`\n",
    "    <Menu>\n",
    "  <food price=\"5.95\" calories=\"650\">\n",
    "    <name>Belgian Waffles</name>\n",
    "    <description>Two of our famous Belgian Waffles with ple\n",
    "  </food>\n",
    "  <food price=\"7.95\" calories=\"900\">\n",
    "    <name>Strawberry Belgian Waffles</name>\n",
    "    <description>Light Belgian waffles covered with strawbe\n",
    "  </food>\n",
    "  <food price=\"8.95\" calories=\"900\">\n",
    "    <name>Berry-Berry Belgian Waffles</name>\n",
    "    <description>Light Belgian waffles covered with an asso\n",
    "  </food>\n",
    "  <food price=\"4.5\" calories=\"600\">\n",
    "    <name>French Toast</name>\n",
    "    <description>Thick slices made from our homemade sourdo\n",
    "  </food>\n",
    "  <food price=\"6.95\" calories=\"950\">\n",
    "    <name>Homestyle Breakfast</name>\n",
    "    <description>Two eggs, bacon or sausage, toast, and our\n",
    "  </food>\n",
    "  </Menu>\n",
    "`"
   ]
  },
  {
   "cell_type": "code",
   "execution_count": 14,
   "metadata": {},
   "outputs": [],
   "source": [
    "breakRoot = etree.tostring(breakRoot).decode('utf-8')\n",
    "file = open('hw12Data/newBreakfast.xml','w')\n",
    "file.write(breakRoot)\n",
    "file.close()"
   ]
  },
  {
   "cell_type": "markdown",
   "metadata": {},
   "source": [
    "**Run the code cell below and make sure the output matches mine above.**"
   ]
  },
  {
   "cell_type": "code",
   "execution_count": 15,
   "metadata": {},
   "outputs": [
    {
     "name": "stdout",
     "output_type": "stream",
     "text": [
      "<Menu>\n",
      "  <food price=\"5.95\" calories=\"650\">\n",
      "    <name>Belgian Waffles</name>\n",
      "    <description>Two of our famous Belgian Waffles with ple\n",
      "  </food>\n",
      "  <food price=\"7.95\" calories=\"900\">\n",
      "    <name>Strawberry Belgian Waffles</name>\n",
      "    <description>Light Belgian waffles covered with strawbe\n",
      "  </food>\n",
      "  <food price=\"8.95\" calories=\"900\">\n",
      "    <name>Berry-Berry Belgian Waffles</name>\n",
      "    <description>Light Belgian waffles covered with an asso\n",
      "  </food>\n",
      "  <food price=\"4.5\" calories=\"600\">\n",
      "    <name>French Toast</name>\n",
      "    <description>Thick slices made from our homemade sourdo\n",
      "  </food>\n",
      "  <food price=\"6.95\" calories=\"950\">\n",
      "    <name>Homestyle Breakfast</name>\n",
      "    <description>Two eggs, bacon or sausage, toast, and our\n",
      "  </food>\n",
      "</Menu>\n"
     ]
    }
   ],
   "source": [
    "# Import the new XML file\n",
    "newBroot = getLocalXML(\"newBreakfast.xml\", datadir)\n",
    "\n",
    "# Print the XML data\n",
    "util.print_xml(newBroot)"
   ]
  },
  {
   "cell_type": "code",
   "execution_count": null,
   "metadata": {},
   "outputs": [],
   "source": []
  }
 ],
 "metadata": {
  "celltoolbar": "Raw Cell Format",
  "kernelspec": {
   "display_name": "Python 3 (ipykernel)",
   "language": "python",
   "name": "python3"
  },
  "language_info": {
   "codemirror_mode": {
    "name": "ipython",
    "version": 3
   },
   "file_extension": ".py",
   "mimetype": "text/x-python",
   "name": "python",
   "nbconvert_exporter": "python",
   "pygments_lexer": "ipython3",
   "version": "3.9.7"
  }
 },
 "nbformat": 4,
 "nbformat_minor": 2
}

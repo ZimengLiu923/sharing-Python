{
 "cells": [
  {
   "cell_type": "markdown",
   "metadata": {},
   "source": [
    "# Data 200: Database Systems and Data Management for Data Analytics\n"
   ]
  },
  {
   "cell_type": "markdown",
   "metadata": {},
   "source": [
    "# Homework 4: Descriptive Statistics in Python\n",
    "\n",
    "**Dickinson College**<br/>\n",
    "**Spring 2021**<br/>\n",
    "**Instructor:** Dick Forrester<br/>\n",
    "**Author:** Dick Forrester<br>\n",
    "<font color='red'>**Due Date and Time:** 1:30 pm on Thursday, 2/17/2022 </font>\n",
    "---\n",
    "Enter your name in the markdown cell below."
   ]
  },
  {
   "cell_type": "markdown",
   "metadata": {},
   "source": [
    "# Name:"
   ]
  },
  {
   "cell_type": "code",
   "execution_count": 1,
   "metadata": {},
   "outputs": [
    {
     "data": {
      "text/html": [
       "<style>\n",
       "blockquote { background: #AEDE94; }\n",
       "h1 { \n",
       "    padding-top: 25px;\n",
       "    padding-bottom: 25px;\n",
       "    text-align: left; \n",
       "    padding-left: 10px;\n",
       "    background-color: #DDDDDD; \n",
       "    color: black;\n",
       "}\n",
       "h2 { \n",
       "    padding-top: 10px;\n",
       "    padding-bottom: 10px;\n",
       "    text-align: left; \n",
       "    padding-left: 5px;\n",
       "    background-color: #EEEEEE; \n",
       "    color: black;\n",
       "}\n",
       "\n",
       "div.exercise {\n",
       "\tbackground-color: #ffcccc;\n",
       "\tborder-color: #E9967A; \t\n",
       "\tborder-left: 5px solid #800080; \n",
       "\tpadding: 0.5em;\n",
       "}\n",
       "\n",
       "div.exercise-r {\n",
       "\tbackground-color: #fce8e8;\n",
       "\tborder-color: #E9967A; \t\n",
       "\tborder-left: 5px solid #800080; \n",
       "\tpadding: 0.5em;\n",
       "}\n",
       "\n",
       "\n",
       "span.sub-q {\n",
       "\tfont-weight: bold;\n",
       "}\n",
       "div.theme {\n",
       "\tbackground-color: #DDDDDD;\n",
       "\tborder-color: #E9967A; \t\n",
       "\tborder-left: 5px solid #800080; \n",
       "\tpadding: 0.5em;\n",
       "\tfont-size: 18pt;\n",
       "}\n",
       "div.gc { \n",
       "\tbackground-color: #AEDE94;\n",
       "\tborder-color: #E9967A; \t \n",
       "\tborder-left: 5px solid #800080; \n",
       "\tpadding: 0.5em;\n",
       "\tfont-size: 12pt;\n",
       "}\n",
       "p.q1 { \n",
       "    padding-top: 5px;\n",
       "    padding-bottom: 5px;\n",
       "    text-align: left; \n",
       "    padding-left: 5px;\n",
       "    background-color: #EEEEEE; \n",
       "    color: black;\n",
       "}\n",
       "header {\n",
       "   padding-top: 35px;\n",
       "    padding-bottom: 35px;\n",
       "    text-align: left; \n",
       "    padding-left: 10px;\n",
       "    background-color: #DDDDDD; \n",
       "    color: black;\n",
       "}\n",
       "</style>\n",
       "\n"
      ],
      "text/plain": [
       "<IPython.core.display.HTML object>"
      ]
     },
     "execution_count": 1,
     "metadata": {},
     "output_type": "execute_result"
    }
   ],
   "source": [
    "## RUN THIS CELL TO GET THE RIGHT FORMATTING AND TO LOAD NumPy\n",
    "import requests\n",
    "import numpy as np\n",
    "from IPython.core.display import HTML\n",
    "styles = requests.get(\"https://raw.githubusercontent.com/Harvard-IACS/2018-CS109A/master/content/styles/cs109.css\").text\n",
    "HTML(styles)"
   ]
  },
  {
   "cell_type": "markdown",
   "metadata": {},
   "source": [
    "# Tasks\n",
    "\n",
    "- Review pages 99-112 in the Course Notes.\n",
    "- Complete the **Aggregating DataFrames** and the **Slicing and Indexing DataFrames** chapters of the **Data Manipulation with Pandas** course on DataCamp\n",
    "- E-mail me your completed Jupyter notebook."
   ]
  },
  {
   "cell_type": "markdown",
   "metadata": {},
   "source": [
    "# Exercises"
   ]
  },
  {
   "cell_type": "markdown",
   "metadata": {},
   "source": [
    "Numerous studies have shown that exposure to light at night is harmful to human health.  A recent study  in mice shows that even low-level light at night can interfere with normal eating and sleeping cycles.  Furthermore, the study finds that food is especially fattening if consumed at the wrong time of day, at least in mice.  In the study 27 mice were randomly split into three groups. One group was on a normal light-dark cycle (LD), one group had a bright light on all the time (LL), and one group had light during the day and dim light at night (DM).  The dim light was equivalent to having a television set on in a room.\n",
    "\n",
    "**Run the code cell below**, which loads in the data corresponding to this study."
   ]
  },
  {
   "cell_type": "code",
   "execution_count": 2,
   "metadata": {},
   "outputs": [
    {
     "data": {
      "text/html": [
       "<div>\n",
       "<style scoped>\n",
       "    .dataframe tbody tr th:only-of-type {\n",
       "        vertical-align: middle;\n",
       "    }\n",
       "\n",
       "    .dataframe tbody tr th {\n",
       "        vertical-align: top;\n",
       "    }\n",
       "\n",
       "    .dataframe thead th {\n",
       "        text-align: right;\n",
       "    }\n",
       "</style>\n",
       "<table border=\"1\" class=\"dataframe\">\n",
       "  <thead>\n",
       "    <tr style=\"text-align: right;\">\n",
       "      <th></th>\n",
       "      <th>Light</th>\n",
       "      <th>BMGain</th>\n",
       "      <th>DayPct</th>\n",
       "      <th>Consumption</th>\n",
       "      <th>GlucoseInt</th>\n",
       "      <th>Activity</th>\n",
       "    </tr>\n",
       "  </thead>\n",
       "  <tbody>\n",
       "    <tr>\n",
       "      <th>0</th>\n",
       "      <td>LL</td>\n",
       "      <td>9.89</td>\n",
       "      <td>71.552</td>\n",
       "      <td>3.387</td>\n",
       "      <td>Yes</td>\n",
       "      <td>5752</td>\n",
       "    </tr>\n",
       "    <tr>\n",
       "      <th>1</th>\n",
       "      <td>DM</td>\n",
       "      <td>10.20</td>\n",
       "      <td>40.848</td>\n",
       "      <td>3.414</td>\n",
       "      <td>No</td>\n",
       "      <td>1409</td>\n",
       "    </tr>\n",
       "    <tr>\n",
       "      <th>2</th>\n",
       "      <td>LD</td>\n",
       "      <td>5.02</td>\n",
       "      <td>31.063</td>\n",
       "      <td>3.791</td>\n",
       "      <td>No</td>\n",
       "      <td>1437</td>\n",
       "    </tr>\n",
       "    <tr>\n",
       "      <th>3</th>\n",
       "      <td>LL</td>\n",
       "      <td>9.58</td>\n",
       "      <td>61.453</td>\n",
       "      <td>3.451</td>\n",
       "      <td>No</td>\n",
       "      <td>1256</td>\n",
       "    </tr>\n",
       "    <tr>\n",
       "      <th>4</th>\n",
       "      <td>DM</td>\n",
       "      <td>7.29</td>\n",
       "      <td>47.450</td>\n",
       "      <td>3.219</td>\n",
       "      <td>Yes</td>\n",
       "      <td>509</td>\n",
       "    </tr>\n",
       "  </tbody>\n",
       "</table>\n",
       "</div>"
      ],
      "text/plain": [
       "  Light  BMGain  DayPct  Consumption GlucoseInt  Activity\n",
       "0    LL    9.89  71.552        3.387        Yes      5752\n",
       "1    DM   10.20  40.848        3.414         No      1409\n",
       "2    LD    5.02  31.063        3.791         No      1437\n",
       "3    LL    9.58  61.453        3.451         No      1256\n",
       "4    DM    7.29  47.450        3.219        Yes       509"
      ]
     },
     "execution_count": 2,
     "metadata": {},
     "output_type": "execute_result"
    }
   ],
   "source": [
    "import matplotlib.pyplot as plt\n",
    "import pandas as pd\n",
    "\n",
    "mouseLight = pd.read_csv('MouseLight.csv')\n",
    "mouseLight.head()"
   ]
  },
  {
   "cell_type": "markdown",
   "metadata": {},
   "source": [
    "This dataset consists of 27 observations on the following variables. \n",
    "\n",
    "- `Light`: </t>DM = dim light at night, LD = dark at night, or LL = bright light at night <br>\n",
    "- `BMGain`: </t>Body mass gain (in grams over a four week period)  <br>\n",
    "- `DayPct`: </t>Percent of calories eaten during the day  <br>\n",
    "- `Consumption`: </t>Daily food consumption (grams)  <br>\n",
    "- `GlucoseInt`: </t>Was mouse classified as glucose intolerant at the end of the study? No or Yes <br>\n",
    "- `Activity`: </t>A measure of physical activity level  <br>\n"
   ]
  },
  {
   "cell_type": "markdown",
   "metadata": {},
   "source": [
    "<div class=\"exercise\"><b>Exercise 1</b></div> \n",
    "\n",
    "Compute and print the descriptive statistics for the amount of food consumed (`Consumption`) by the mice in each of the three different light groups (`Light`).  You should use the `groupby()` function.\n",
    "    \n",
    "The output from my solution is as follows: <br>\n",
    "\n",
    "<code>\n",
    "      Consumption                                                            \n",
    "            count      mean       std    min      25%     50%      75%    max\n",
    "Light                                                                        \n",
    "DM           10.0  4.124100  0.693795  3.219  3.59350  4.0440  4.60325  5.324\n",
    "LD            8.0  4.327500  0.433703  3.791  3.98375  4.2885  4.58925  4.946\n",
    "LL            9.0  4.514889  1.314899  3.387  3.47900  4.2400  4.87300  7.177</code>"
   ]
  },
  {
   "cell_type": "code",
   "execution_count": 3,
   "metadata": {},
   "outputs": [
    {
     "data": {
      "text/html": [
       "<div>\n",
       "<style scoped>\n",
       "    .dataframe tbody tr th:only-of-type {\n",
       "        vertical-align: middle;\n",
       "    }\n",
       "\n",
       "    .dataframe tbody tr th {\n",
       "        vertical-align: top;\n",
       "    }\n",
       "\n",
       "    .dataframe thead th {\n",
       "        text-align: right;\n",
       "    }\n",
       "</style>\n",
       "<table border=\"1\" class=\"dataframe\">\n",
       "  <thead>\n",
       "    <tr style=\"text-align: right;\">\n",
       "      <th></th>\n",
       "      <th>count</th>\n",
       "      <th>mean</th>\n",
       "      <th>std</th>\n",
       "      <th>min</th>\n",
       "      <th>25%</th>\n",
       "      <th>50%</th>\n",
       "      <th>75%</th>\n",
       "      <th>max</th>\n",
       "    </tr>\n",
       "    <tr>\n",
       "      <th>Light</th>\n",
       "      <th></th>\n",
       "      <th></th>\n",
       "      <th></th>\n",
       "      <th></th>\n",
       "      <th></th>\n",
       "      <th></th>\n",
       "      <th></th>\n",
       "      <th></th>\n",
       "    </tr>\n",
       "  </thead>\n",
       "  <tbody>\n",
       "    <tr>\n",
       "      <th>DM</th>\n",
       "      <td>10.0</td>\n",
       "      <td>4.124100</td>\n",
       "      <td>0.693795</td>\n",
       "      <td>3.219</td>\n",
       "      <td>3.59350</td>\n",
       "      <td>4.0440</td>\n",
       "      <td>4.60325</td>\n",
       "      <td>5.324</td>\n",
       "    </tr>\n",
       "    <tr>\n",
       "      <th>LD</th>\n",
       "      <td>8.0</td>\n",
       "      <td>4.327500</td>\n",
       "      <td>0.433703</td>\n",
       "      <td>3.791</td>\n",
       "      <td>3.98375</td>\n",
       "      <td>4.2885</td>\n",
       "      <td>4.58925</td>\n",
       "      <td>4.946</td>\n",
       "    </tr>\n",
       "    <tr>\n",
       "      <th>LL</th>\n",
       "      <td>9.0</td>\n",
       "      <td>4.514889</td>\n",
       "      <td>1.314899</td>\n",
       "      <td>3.387</td>\n",
       "      <td>3.47900</td>\n",
       "      <td>4.2400</td>\n",
       "      <td>4.87300</td>\n",
       "      <td>7.177</td>\n",
       "    </tr>\n",
       "  </tbody>\n",
       "</table>\n",
       "</div>"
      ],
      "text/plain": [
       "       count      mean       std    min      25%     50%      75%    max\n",
       "Light                                                                   \n",
       "DM      10.0  4.124100  0.693795  3.219  3.59350  4.0440  4.60325  5.324\n",
       "LD       8.0  4.327500  0.433703  3.791  3.98375  4.2885  4.58925  4.946\n",
       "LL       9.0  4.514889  1.314899  3.387  3.47900  4.2400  4.87300  7.177"
      ]
     },
     "execution_count": 3,
     "metadata": {},
     "output_type": "execute_result"
    }
   ],
   "source": [
    "mouseLight.groupby('Light')['Consumption'].describe()"
   ]
  },
  {
   "cell_type": "markdown",
   "metadata": {},
   "source": [
    "**Would you agree that on average, the mice consumed *roughly* the same amount of food regardless of the light cycle? Explain in the markdown cell below.**"
   ]
  },
  {
   "cell_type": "markdown",
   "metadata": {},
   "source": [
    "I agree that on average, the mice roughly consume the same amount of food regardless of the light cycle, since the means of consumption of three groups of light are all around 4.3 grams."
   ]
  },
  {
   "cell_type": "markdown",
   "metadata": {},
   "source": [
    "<div class=\"exercise\"><b>Exercise 2</b></div> \n",
    "\n",
    "Compute and print the descriptive statistics for the amount of physical activity of the mice (`Activity`) in each of the three different light groups (`Light`).  \n",
    "\n",
    "The output from my solution is:<br>\n",
    "\n",
    "<code>\n",
    "      Activity                                                             \\\n",
    "         count         mean          std    min      25%     50%      75%   \n",
    "Light                                                                       \n",
    "DM        10.0  2502.900000  1999.383597  509.0  1492.75  1844.5  2537.75   \n",
    "LD         8.0  2432.875000  2266.448035  346.0   839.75  1543.0  3365.00   \n",
    "LL         9.0  2862.111111  2418.241274  153.0   931.00  2657.0  4482.00   \n",
    "</code><code>         \n",
    "          max  \n",
    "Light          \n",
    "DM     7253.0  \n",
    "LD     6048.0  \n",
    "LL     6702.0 </code>"
   ]
  },
  {
   "cell_type": "code",
   "execution_count": 4,
   "metadata": {},
   "outputs": [
    {
     "data": {
      "text/html": [
       "<div>\n",
       "<style scoped>\n",
       "    .dataframe tbody tr th:only-of-type {\n",
       "        vertical-align: middle;\n",
       "    }\n",
       "\n",
       "    .dataframe tbody tr th {\n",
       "        vertical-align: top;\n",
       "    }\n",
       "\n",
       "    .dataframe thead th {\n",
       "        text-align: right;\n",
       "    }\n",
       "</style>\n",
       "<table border=\"1\" class=\"dataframe\">\n",
       "  <thead>\n",
       "    <tr style=\"text-align: right;\">\n",
       "      <th></th>\n",
       "      <th>count</th>\n",
       "      <th>mean</th>\n",
       "      <th>std</th>\n",
       "      <th>min</th>\n",
       "      <th>25%</th>\n",
       "      <th>50%</th>\n",
       "      <th>75%</th>\n",
       "      <th>max</th>\n",
       "    </tr>\n",
       "    <tr>\n",
       "      <th>Light</th>\n",
       "      <th></th>\n",
       "      <th></th>\n",
       "      <th></th>\n",
       "      <th></th>\n",
       "      <th></th>\n",
       "      <th></th>\n",
       "      <th></th>\n",
       "      <th></th>\n",
       "    </tr>\n",
       "  </thead>\n",
       "  <tbody>\n",
       "    <tr>\n",
       "      <th>DM</th>\n",
       "      <td>10.0</td>\n",
       "      <td>2502.900000</td>\n",
       "      <td>1999.383597</td>\n",
       "      <td>509.0</td>\n",
       "      <td>1492.75</td>\n",
       "      <td>1844.5</td>\n",
       "      <td>2537.75</td>\n",
       "      <td>7253.0</td>\n",
       "    </tr>\n",
       "    <tr>\n",
       "      <th>LD</th>\n",
       "      <td>8.0</td>\n",
       "      <td>2432.875000</td>\n",
       "      <td>2266.448035</td>\n",
       "      <td>346.0</td>\n",
       "      <td>839.75</td>\n",
       "      <td>1543.0</td>\n",
       "      <td>3365.00</td>\n",
       "      <td>6048.0</td>\n",
       "    </tr>\n",
       "    <tr>\n",
       "      <th>LL</th>\n",
       "      <td>9.0</td>\n",
       "      <td>2862.111111</td>\n",
       "      <td>2418.241274</td>\n",
       "      <td>153.0</td>\n",
       "      <td>931.00</td>\n",
       "      <td>2657.0</td>\n",
       "      <td>4482.00</td>\n",
       "      <td>6702.0</td>\n",
       "    </tr>\n",
       "  </tbody>\n",
       "</table>\n",
       "</div>"
      ],
      "text/plain": [
       "       count         mean          std    min      25%     50%      75%  \\\n",
       "Light                                                                     \n",
       "DM      10.0  2502.900000  1999.383597  509.0  1492.75  1844.5  2537.75   \n",
       "LD       8.0  2432.875000  2266.448035  346.0   839.75  1543.0  3365.00   \n",
       "LL       9.0  2862.111111  2418.241274  153.0   931.00  2657.0  4482.00   \n",
       "\n",
       "          max  \n",
       "Light          \n",
       "DM     7253.0  \n",
       "LD     6048.0  \n",
       "LL     6702.0  "
      ]
     },
     "execution_count": 4,
     "metadata": {},
     "output_type": "execute_result"
    }
   ],
   "source": [
    "mouseLight.groupby('Light')['Activity'].describe()"
   ]
  },
  {
   "cell_type": "markdown",
   "metadata": {},
   "source": [
    "**Would you agree that on average, the mice had *roughly* the same amount of physical activity regardless of the light cycle?  Explain in the markdown cell below.**"
   ]
  },
  {
   "cell_type": "markdown",
   "metadata": {},
   "source": [
    "I don't think that on average, the mice had roughly the same amount of physical activity regardless of the light cycle, because the means of activity of the three light groups are range from 2502 to 2862. Moreover, the standard diviation of the three groups are very large (at least 2000) as well."
   ]
  },
  {
   "cell_type": "markdown",
   "metadata": {},
   "source": [
    "<div class=\"exercise\"><b>Exercise 3</b></div> \n",
    "\n",
    "- Compute the descriptive statistics for the body mass gain (`BMGain`) by the mice under the three different light conditions (`Light`).  <br>\n",
    "- Furthermore, create side-by-side boxplots of body mass gain for the three different light groups (note that we already loaded in `matplotlib.pyplot as plt` earlier.  Please provide labels for your boxplot.  Specifically, please label the x-axis “Light Conditions,” the y-axis “BM Gain,” and title the graph “BM Gain by Light Conditions.”  \n",
    "\n",
    "The output from my solution is (minus the boxplots):<br>\n",
    "\n",
    "<code>\n",
    "      BMGain                                                       \n",
    "       count      mean       std   min     25%   50%     75%    max\n",
    "Light                                                              \n",
    "DM      10.0   7.85900  3.009291  3.42  5.8775  7.43   9.810  13.47\n",
    "LD       8.0   5.92625  1.899420  2.79  4.7575  6.33   7.035   8.17\n",
    "LL       9.0  11.01000  2.623986  9.05  9.3900  9.89  11.200  17.40\n",
    "</code>"
   ]
  },
  {
   "cell_type": "code",
   "execution_count": 13,
   "metadata": {},
   "outputs": [
    {
     "name": "stdout",
     "output_type": "stream",
     "text": [
      "       count      mean       std   min     25%   50%     75%    max\n",
      "Light                                                              \n",
      "DM      10.0   7.85900  3.009291  3.42  5.8775  7.43   9.810  13.47\n",
      "LD       8.0   5.92625  1.899420  2.79  4.7575  6.33   7.035   8.17\n",
      "LL       9.0  11.01000  2.623986  9.05  9.3900  9.89  11.200  17.40\n"
     ]
    },
    {
     "data": {
      "image/png": "[encoded data removed]",
      "text/plain": [
       "<Figure size 432x288 with 1 Axes>"
      ]
     },
     "metadata": {
      "needs_background": "light"
     },
     "output_type": "display_data"
    }
   ],
   "source": [
    "print(mouseLight.groupby('Light')['BMGain'].describe())\n",
    "plt.boxplot([mouseLight[mouseLight.Light == 'DM'].BMGain,\n",
    "            mouseLight[mouseLight.Light == 'LD'].BMGain,\n",
    "            mouseLight[mouseLight.Light == 'LL'].BMGain],\n",
    "            labels=['DM','LD','LL'])\n",
    "plt.xlabel('Light Conditions')\n",
    "plt.ylabel('BM Gain')\n",
    "plt.title('BM Gain by Light Conditions')\n",
    "plt.show()"
   ]
  },
  {
   "cell_type": "markdown",
   "metadata": {},
   "source": [
    "**Would you agree that there are fairly significant differences between the average body mass gain for the three different light groups?  Which light group had the largest gain?  Which light group had the smallest gain?  Comment on the differences of the boxplots.  Use the markdown cell below to answer this question.**"
   ]
  },
  {
   "cell_type": "markdown",
   "metadata": {},
   "source": [
    "I think there are fairly significant differences between the average body mass gain for the three different light groups. LL, bright light at night, group had the largest gain, since it had the largest median and the smallest IQR. LD, dark at night, group had the smallest gain, because it had the smallest median and relatively small IQR."
   ]
  },
  {
   "cell_type": "markdown",
   "metadata": {},
   "source": [
    "<div class=\"exercise\"><b>Exercise 4</b></div> \n",
    "\n",
    "- Create a two-way table between light condition at night (`Light`) and glucose intolerance (`GlucoseInt`).\n",
    "- Construct a conditional distribution of glucose intolerance *given* light condition (so the rows should sum to 1).  \n",
    "\n",
    "The output from my solution is:<br>\n",
    "\n",
    "<code>\n",
    "    yes  no\n",
    "DM    4   6\n",
    "LD    8   0\n",
    "LL    3   6\n",
    "</code><code>\n",
    "GlucoseInt        No       Yes\n",
    "Light                         \n",
    "DM          0.400000  0.600000\n",
    "LD          1.000000  0.000000\n",
    "LL          0.333333  0.666667\n",
    "</code>"
   ]
  },
  {
   "cell_type": "code",
   "execution_count": 18,
   "metadata": {},
   "outputs": [
    {
     "name": "stdout",
     "output_type": "stream",
     "text": [
      "    yes  no\n",
      "DM    4   6\n",
      "LD    8   0\n",
      "LL    3   6\n",
      "\n",
      "GlucoseInt        No       Yes\n",
      "Light                         \n",
      "DM          0.400000  0.600000\n",
      "LD          1.000000  0.000000\n",
      "LL          0.333333  0.666667\n"
     ]
    }
   ],
   "source": [
    "twoway = pd.crosstab(index = mouseLight.Light, columns = mouseLight.GlucoseInt)\n",
    "twoway.index = ['DM', 'LD', 'LL']\n",
    "twoway.columns = ['yes', 'no']\n",
    "print(twoway)\n",
    "print()\n",
    "twowayCond = pd.crosstab(index = mouseLight.Light, columns = mouseLight.GlucoseInt, normalize = 'index')\n",
    "#twowayCond.index = ['DM', 'LD', 'LL']\n",
    "#twowayCond.columns = ['yes', 'no']\n",
    "print(twowayCond)"
   ]
  },
  {
   "cell_type": "markdown",
   "metadata": {},
   "source": [
    "**Would you agree that Exercises 1-4 demonstrate that while the mice in all three groups ate roughly the same amount of food and had roughly the same amount of physical activity, there were still large differences between whether or not the mice became glucose intolerant?  Explain in the code cell below.**"
   ]
  },
  {
   "cell_type": "markdown",
   "metadata": {},
   "source": [
    "I agree that there were large differences between whether or not the mice became glucose intolerant, because looking at the conditional distribution of glucose intolerance given light condition, both DM and LL groups had more glucose intolerant mice, but for LD group, no mice were glucose intolerant."
   ]
  },
  {
   "cell_type": "markdown",
   "metadata": {},
   "source": [
    "<div class=\"exercise\"><b>Exercise 5</b></div> \n",
    "\n",
    "Given that this was clearly an experiment, can we reasonable conclude that an absence of darkness at night causes mice to be fatter and more likely to be glucose intolerant (this is not a trick question)?  Please answer in the code cell below."
   ]
  },
  {
   "cell_type": "markdown",
   "metadata": {
    "raw_mimetype": "text/markdown"
   },
   "source": [
    "Sure. I think we can conclude that an absence of darkness at night causes mice to be fatter and more likely to be glucose intolerant.Because for LD group, mice gain least body mass and no mice were glucose intolerant, but for DM and LL groups, it is obviously that the mice gain some body mass and most of them were glucose intolerant."
   ]
  },
  {
   "cell_type": "code",
   "execution_count": null,
   "metadata": {},
   "outputs": [],
   "source": []
  }
 ],
 "metadata": {
  "celltoolbar": "Raw Cell Format",
  "kernelspec": {
   "display_name": "Python 3 (ipykernel)",
   "language": "python",
   "name": "python3"
  },
  "language_info": {
   "codemirror_mode": {
    "name": "ipython",
    "version": 3
   },
   "file_extension": ".py",
   "mimetype": "text/x-python",
   "name": "python",
   "nbconvert_exporter": "python",
   "pygments_lexer": "ipython3",
   "version": "3.9.7"
  }
 },
 "nbformat": 4,
 "nbformat_minor": 2
}

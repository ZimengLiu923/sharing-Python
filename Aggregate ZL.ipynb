{
 "cells": [
  {
   "cell_type": "code",
   "execution_count": 1,
   "id": "f2ad724c",
   "metadata": {},
   "outputs": [],
   "source": [
    "# Import packages\n",
    "# No need to make any changes to it.\n",
    "\n",
    "import pandas as pd\n",
    "import xlwings as xw\n",
    "import os\n",
    "from openpyxl import Workbook, load_workbook"
   ]
  },
  {
   "cell_type": "code",
   "execution_count": 2,
   "id": "a86d9e45",
   "metadata": {},
   "outputs": [],
   "source": [
    "# Tell Python which file you want to put the aggregated data in\n",
    "# USE \\\\ INSTEAD OF \\ (original path use \\)\n",
    "\n",
    "path = #Path0 #Here"
   ]
  },
  {
   "cell_type": "code",
   "execution_count": 3,
   "id": "fb4d4527",
   "metadata": {},
   "outputs": [],
   "source": [
    "# Tell Python which folder you want to pull data from\n",
    "# USE \\\\ INSTEAD OF \\ (original path use \\)\n",
    "# Remember to change FILE NAMEs and FOLDER NAMEs\n",
    "folder1 = #Path1\n",
    "files1 = os.listdir(folder1)\n",
    "\n",
    "# Open every Excel file in the folder you just selected, enter the password, and close it\n",
    "for file1 in files1: \n",
    "    if file1.endswith(('.XLSX','.xlsx')):\n",
    "        Path = os.path.join(folder1,file1)\n",
    "        wb= xw.Book(Path, password = #Password)\n",
    "        sheet = wb.sheets[#Sheet].used_range.value\n",
    "        wb.close()\n",
    "        \n",
    "# Creat a basic dataframe which is exactly the same as the excel file Python just opened        \n",
    "        df = pd.DataFrame(sheet)\n",
    "    \n",
    "# If the Excel file does not have A within it\n",
    "# Only extract the data we need from B table\n",
    "        if df.iloc[-1,0] == #Title1 :\n",
    "            df = df.iloc[6:-3,:]\n",
    "            hd = df.iloc[0]\n",
    "            df = pd.DataFrame(df.values[1:], columns=hd)\n",
    "            df = df.iloc[:,[1,4,16,18,22]]\n",
    "            df['file name'] = file1\n",
    "            df['folder'] = '2Q21'\n",
    "            \n",
    "# If the Excel file have A within it\n",
    "# Extract the data we need from both A and B tables\n",
    "        elif (df.iloc[-1,0] is None):\n",
    "            bk = df[df[0] == #Title2 ].index[0]\n",
    "            de = [(bk-3),(bk-2),(bk-1),bk,(bk+1)]\n",
    "            df = df.iloc[6:,:]\n",
    "            df.drop([(bk-3),(bk-2),(bk-1),bk,(bk+1)], axis = 0, inplace = True)\n",
    "            hd = df.iloc[0]\n",
    "            df = pd.DataFrame(df.values[1:], columns=hd)\n",
    "            df = df.iloc[:,[1,4,16,18,22]]\n",
    "            df['file name'] = file1\n",
    "            df['folder'] = '2Q21'\n",
    "            \n",
    "# If the Excel file falls into neither of the two condistions, Python will return an error message\n",
    "        else:\n",
    "            print('Error:' + file1)\n",
    "\n",
    "# Open the aim file, write wanted data in it, and close it.\n",
    "        book = load_workbook(path)\n",
    "        writer = pd.ExcelWriter(path, engine='openpyxl')\n",
    "        writer.book = book\n",
    "        writer.sheets = dict((ws.title, ws) for ws in book.worksheets)\n",
    "        shn = 'Sheet1'\n",
    "        df.to_excel(writer,sheet_name=shn, startrow=writer.sheets[shn].max_row, index = False, header= False)\n",
    "        writer.save()\n",
    "        writer.close()\n",
    "        \n"
   ]
  },
  {
   "cell_type": "code",
   "execution_count": 9,
   "id": "8c11665c",
   "metadata": {},
   "outputs": [],
   "source": [
    "## Everytime there is a new folder of data, please click the + icon on upper left to insert a new cell. \n",
    "## Copy and paste the code in the last cell and change the path, file namees, and folder names according to the instruction."
   ]
  }
 ],
 "metadata": {
  "kernelspec": {
   "display_name": "Python 3 (ipykernel)",
   "language": "python",
   "name": "python3"
  },
  "language_info": {
   "codemirror_mode": {
    "name": "ipython",
    "version": 3
   },
   "file_extension": ".py",
   "mimetype": "text/x-python",
   "name": "python",
   "nbconvert_exporter": "python",
   "pygments_lexer": "ipython3",
   "version": "3.9.7"
  }
 },
 "nbformat": 4,
 "nbformat_minor": 5
}

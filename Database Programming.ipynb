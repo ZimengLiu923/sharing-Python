{
 "cells": [
  {
   "cell_type": "markdown",
   "metadata": {},
   "source": [
    "# Data 200: Database Systems and Data Management for Data Analytics\n"
   ]
  },
  {
   "cell_type": "markdown",
   "metadata": {},
   "source": [
    "# Homework 10: Database Programming\n",
    "\n",
    "**Dickinson College**<br/>\n",
    "**Spring 2022**<br/>\n",
    "**Instructor:** Dick Forrester<br/>\n",
    "<font color='red'>**Due Date and Time:** 11:59pm on Thursday, 4/7/2022 </font>\n",
    "---\n",
    "Enter your name in the markdown cell below."
   ]
  },
  {
   "cell_type": "markdown",
   "metadata": {},
   "source": [
    "# Name: Zimeng Liu"
   ]
  },
  {
   "cell_type": "code",
   "execution_count": 1,
   "metadata": {},
   "outputs": [
    {
     "data": {
      "text/html": [
       "<style>\n",
       "blockquote { background: #AEDE94; }\n",
       "h1 { \n",
       "    padding-top: 25px;\n",
       "    padding-bottom: 25px;\n",
       "    text-align: left; \n",
       "    padding-left: 10px;\n",
       "    background-color: #DDDDDD; \n",
       "    color: black;\n",
       "}\n",
       "h2 { \n",
       "    padding-top: 10px;\n",
       "    padding-bottom: 10px;\n",
       "    text-align: left; \n",
       "    padding-left: 5px;\n",
       "    background-color: #EEEEEE; \n",
       "    color: black;\n",
       "}\n",
       "\n",
       "div.exercise {\n",
       "\tbackground-color: #ffcccc;\n",
       "\tborder-color: #E9967A; \t\n",
       "\tborder-left: 5px solid #800080; \n",
       "\tpadding: 0.5em;\n",
       "}\n",
       "\n",
       "div.exercise-r {\n",
       "\tbackground-color: #fce8e8;\n",
       "\tborder-color: #E9967A; \t\n",
       "\tborder-left: 5px solid #800080; \n",
       "\tpadding: 0.5em;\n",
       "}\n",
       "\n",
       "\n",
       "span.sub-q {\n",
       "\tfont-weight: bold;\n",
       "}\n",
       "div.theme {\n",
       "\tbackground-color: #DDDDDD;\n",
       "\tborder-color: #E9967A; \t\n",
       "\tborder-left: 5px solid #800080; \n",
       "\tpadding: 0.5em;\n",
       "\tfont-size: 18pt;\n",
       "}\n",
       "div.gc { \n",
       "\tbackground-color: #AEDE94;\n",
       "\tborder-color: #E9967A; \t \n",
       "\tborder-left: 5px solid #800080; \n",
       "\tpadding: 0.5em;\n",
       "\tfont-size: 12pt;\n",
       "}\n",
       "p.q1 { \n",
       "    padding-top: 5px;\n",
       "    padding-bottom: 5px;\n",
       "    text-align: left; \n",
       "    padding-left: 5px;\n",
       "    background-color: #EEEEEE; \n",
       "    color: black;\n",
       "}\n",
       "header {\n",
       "   padding-top: 35px;\n",
       "    padding-bottom: 35px;\n",
       "    text-align: left; \n",
       "    padding-left: 10px;\n",
       "    background-color: #DDDDDD; \n",
       "    color: black;\n",
       "}\n",
       "</style>\n",
       "\n"
      ],
      "text/plain": [
       "<IPython.core.display.HTML object>"
      ]
     },
     "execution_count": 1,
     "metadata": {},
     "output_type": "execute_result"
    }
   ],
   "source": [
    "## RUN THIS CELL TO GET THE RIGHT FORMATTING AND TO LOAD NumPy\n",
    "import requests\n",
    "import numpy as np\n",
    "from IPython.core.display import HTML\n",
    "styles = requests.get(\"https://raw.githubusercontent.com/Harvard-IACS/2018-CS109A/master/content/styles/cs109.css\").text\n",
    "HTML(styles)"
   ]
  },
  {
   "cell_type": "markdown",
   "metadata": {},
   "source": [
    "# Tasks\n",
    "\n",
    "- Review pages 249-273 in the Course Notes.\n",
    "- Complete the **Customizing Seaborn Plots** and **Additional Plot Types** chapters of the **Intermediate Data Visualization with Seaborn** course on DataCamp.\n",
    "- Complete the **Applying Filtering, Ordering and Grouping to Queries** and **Advanced SQLAlchemy Queries** chapters of the **Introduction to Databases in Python** course on DataCamp.\n",
    "- E-mail me your completed Jupyter notebook."
   ]
  },
  {
   "cell_type": "markdown",
   "metadata": {},
   "source": [
    "# Exercises"
   ]
  },
  {
   "cell_type": "markdown",
   "metadata": {},
   "source": [
    "This homework will make use of both the `book.db` and `school.db` databases, both of which should be in the `dbfiles` folder after you unzipped this assignment.  **In addition to exercises, this notebook will demonstrate what we learned about database programming!**"
   ]
  },
  {
   "cell_type": "markdown",
   "metadata": {},
   "source": [
    "**Run the code cell below to import `sqlalchemy`, `pandas`, and `os.path`**"
   ]
  },
  {
   "cell_type": "code",
   "execution_count": 2,
   "metadata": {},
   "outputs": [],
   "source": [
    "import pandas as pd\n",
    "import sqlalchemy as sa\n",
    "import os.path"
   ]
  },
  {
   "cell_type": "markdown",
   "metadata": {},
   "source": [
    "**Run the code cell below to create a *connection string* that that can be used to connect to the `book` database using sqlite.**"
   ]
  },
  {
   "cell_type": "code",
   "execution_count": 3,
   "metadata": {},
   "outputs": [
    {
     "name": "stdout",
     "output_type": "stream",
     "text": [
      "sqlite+pysqlite:///dbfiles\\book.db\n"
     ]
    }
   ],
   "source": [
    "protocol = \"sqlite\"\n",
    "driver = \"pysqlite\"\n",
    "dbdir = \"dbfiles\"\n",
    "database = \"book\"\n",
    "\n",
    "cstring = f\"{protocol}+{driver}:///{os.path.join(dbdir, database + '.db')}\"\n",
    "print(cstring)"
   ]
  },
  {
   "cell_type": "markdown",
   "metadata": {
    "scrolled": true
   },
   "source": [
    "**Run the code cell below to establish the connection to the `book` database using the connection string `cstring`.**"
   ]
  },
  {
   "cell_type": "code",
   "execution_count": 4,
   "metadata": {},
   "outputs": [],
   "source": [
    "engine = sa.create_engine(cstring)\n",
    "connection = engine.connect()"
   ]
  },
  {
   "cell_type": "markdown",
   "metadata": {},
   "source": [
    "**Run the code cell below to perform a simple query to obtain all the columns of the `indicates0` table and print the results.**"
   ]
  },
  {
   "cell_type": "code",
   "execution_count": 5,
   "metadata": {},
   "outputs": [
    {
     "name": "stdout",
     "output_type": "stream",
     "text": [
      "[('CHN', 1386.4, 12143.5, 76.4, 1469.88), ('FRA', 66.87, 2586.29, 82.5, 69.02), ('GBR', 66.06, 2637.87, 81.2, 79.1), ('IND', 1338.66, 2652.55, 68.8, 1168.9), ('USA', 325.15, 19485.4, 78.5, 391.6)]\n"
     ]
    }
   ],
   "source": [
    "# Define the query as a Python string\n",
    "query = \"SELECT *  FROM indicators0\"\n",
    "\n",
    "# Execute the query\n",
    "result_proxy = connection.execute(query)\n",
    "\n",
    "# Retrieve the entire table resulting from the query\n",
    "result_list = result_proxy.fetchall()\n",
    "\n",
    "# Print the results (which is a result proxy)\n",
    "print(result_list)"
   ]
  },
  {
   "cell_type": "markdown",
   "metadata": {},
   "source": [
    "**Run the code cell below to print the number of records returned, and iterate over the list and print the tuple records.**"
   ]
  },
  {
   "cell_type": "code",
   "execution_count": 6,
   "metadata": {},
   "outputs": [
    {
     "name": "stdout",
     "output_type": "stream",
     "text": [
      "Number of records returned =  5 \n",
      "\n",
      "('CHN', 1386.4, 12143.5, 76.4, 1469.88)\n",
      "('FRA', 66.87, 2586.29, 82.5, 69.02)\n",
      "('GBR', 66.06, 2637.87, 81.2, 79.1)\n",
      "('IND', 1338.66, 2652.55, 68.8, 1168.9)\n",
      "('USA', 325.15, 19485.4, 78.5, 391.6)\n"
     ]
    }
   ],
   "source": [
    "print('Number of records returned = ', len(result_list), '\\n')\n",
    "\n",
    "for record in result_list:\n",
    "    print(record)"
   ]
  },
  {
   "cell_type": "markdown",
   "metadata": {},
   "source": [
    "**Run the code cell below to perform a multi-line query of the `indicators` table and print the results.  Note the query is contained inside triple-double quotes!**"
   ]
  },
  {
   "cell_type": "code",
   "execution_count": 7,
   "metadata": {},
   "outputs": [
    {
     "name": "stdout",
     "output_type": "stream",
     "text": [
      "Number of records returned =  4 \n",
      "\n",
      "('CHN', 1386.4, 12143.5, 76.4, 1469.88)\n",
      "('FRA', 66.87, 2586.29, 82.5, 69.02)\n",
      "('IND', 1338.66, 2652.55, 68.8, 1168.9)\n",
      "('USA', 325.15, 19485.4, 78.5, 391.6)\n"
     ]
    }
   ],
   "source": [
    "# Define the query as a Python string\n",
    "query = \"\"\"\n",
    "SELECT code, pop, gdp, life, cell \n",
    "FROM indicators\n",
    "WHERE year = 2017 AND code IN ('CHN', 'IND', 'FRA', 'USA')\n",
    "\"\"\"\n",
    "\n",
    "# Execute the query\n",
    "result_proxy = connection.execute(query)\n",
    "\n",
    "# Retrieve the entire table resulting from the query\n",
    "result_list = result_proxy.fetchall()\n",
    "\n",
    "# Print the number of records and iterate over the list to print the records\n",
    "print('Number of records returned = ', len(result_list), '\\n')\n",
    "\n",
    "for record in result_list:\n",
    "    print(record)"
   ]
  },
  {
   "cell_type": "markdown",
   "metadata": {},
   "source": [
    "**Run the code cell below to close the connection to the database and delete the engine.**"
   ]
  },
  {
   "cell_type": "code",
   "execution_count": 8,
   "metadata": {},
   "outputs": [],
   "source": [
    "connection.close()\n",
    "\n",
    "del engine"
   ]
  },
  {
   "cell_type": "markdown",
   "metadata": {},
   "source": [
    "<div class=\"exercise\"><b>Exercise 1:</b></div> \n",
    "\n",
    "Create and **print** a connection string (called `cstring`) that can be used to connect to the `school` database (which should be in the `dbfiles` directory) using sqlite.  This is almost identical to what we just did in relation to the `book` database.\n",
    "\n",
    "Below is the output from my solution:<br>\n",
    "<code>\n",
    "sqlite+pysqlite:///dbfiles\\school.db\n",
    "</code>"
   ]
  },
  {
   "cell_type": "code",
   "execution_count": 9,
   "metadata": {},
   "outputs": [
    {
     "name": "stdout",
     "output_type": "stream",
     "text": [
      "sqlite+pysqlite:///dbfiles\\school.db\n"
     ]
    }
   ],
   "source": [
    "protocol = \"sqlite\"\n",
    "driver = \"pysqlite\"\n",
    "dbdir = \"dbfiles\"\n",
    "database = \"school\"\n",
    "\n",
    "cstring = f\"{protocol}+{driver}:///{os.path.join(dbdir, database + '.db')}\"\n",
    "print(cstring)"
   ]
  },
  {
   "cell_type": "markdown",
   "metadata": {},
   "source": [
    "**Run the code cell below to establish the connection using your newly defined connection string `cstring`.**"
   ]
  },
  {
   "cell_type": "code",
   "execution_count": 10,
   "metadata": {},
   "outputs": [],
   "source": [
    "engine = sa.create_engine(cstring)\n",
    "connection = engine.connect()"
   ]
  },
  {
   "cell_type": "markdown",
   "metadata": {},
   "source": [
    "<div class=\"exercise\"><b>Exercise 2:</b></div> \n",
    "\n",
    "Write Python code to do the following:<br>\n",
    "\n",
    "- Define a query string that selects the instructors (last name, first name) teaching the classes with `classid` given by 21014, 21088, and 21256. Specifically, the resulting table should contain the `classid`, `instructorlast`, and `instructorfirst` fields.\n",
    "- Execute the query and fetch the results.\n",
    "- Print the number of records and iterate over the list to print the records.\n",
    "\n",
    "Below is the output from my solution:<br>\n",
    "<code>\n",
    "Number of records returned =  3 \n",
    "</code><code>\n",
    "(21014, 'Foster', 'Helen')\n",
    "(21088, 'Hawkins', 'Grace')\n",
    "(21256, 'Garrett', 'Jason')\n",
    "</code>"
   ]
  },
  {
   "cell_type": "code",
   "execution_count": 11,
   "metadata": {},
   "outputs": [
    {
     "name": "stdout",
     "output_type": "stream",
     "text": [
      "Number of records returned =  3 \n",
      "\n",
      "(21014, 'Foster', 'Helen')\n",
      "(21088, 'Hawkins', 'Grace')\n",
      "(21256, 'Garrett', 'Jason')\n"
     ]
    }
   ],
   "source": [
    "# Define the query as a Python string\n",
    "query = \"\"\"\n",
    "SELECT classid, instructorlast, instructorfirst \n",
    "FROM instructor_class LEFT JOIN instructors USING (instructorid)\n",
    "WHERE classid IN (21014, 21088, 21256)\n",
    "\"\"\"\n",
    "\n",
    "# Execute the query\n",
    "result_proxy = connection.execute(query)\n",
    "\n",
    "# Retrieve the entire table resulting from the query\n",
    "result_list = result_proxy.fetchall()\n",
    "\n",
    "# Print the number of records and iterate over the list to print the records\n",
    "print('Number of records returned = ', len(result_list), '\\n')\n",
    "\n",
    "for record in result_list:\n",
    "    print(record)"
   ]
  },
  {
   "cell_type": "markdown",
   "metadata": {},
   "source": [
    "**Carefully study and run the code cell below where we:**\n",
    "\n",
    "- Create a query string that requests the subject, course number, section, and meeting time for the classes with IDs 21014, 21088, 21256, and 21444.\n",
    "- Use the Pandas function `read_sql_query()` to perform the query (over our `connection`) and assign the result to a Pandas data frame called `pandas_table`.\n",
    "- Print the data frame."
   ]
  },
  {
   "cell_type": "code",
   "execution_count": 12,
   "metadata": {},
   "outputs": [
    {
     "name": "stdout",
     "output_type": "stream",
     "text": [
      "         class     classmeeting instructorlast instructorfirst\n",
      "0  PSYC-100-02  09:30-10:20 MWF         Foster           Helen\n",
      "1   FYS-102-02   13:30-14:50 TR        Hawkins           Grace\n",
      "2  ECON-240-01   11:30-13:20 MW        Garrett           Jason\n",
      "3  PHED-180-01             None          Price          Taylor\n"
     ]
    }
   ],
   "source": [
    "# Define our query string\n",
    "query = \"\"\"\n",
    "SELECT coursesubject || '-' || coursenum || \n",
    "       '-' || classsection\n",
    "AS class, classmeeting, instructorlast, instructorfirst\n",
    "FROM classes INNER JOIN instructor_class USING (classid)\n",
    "INNER JOIN instructors USING (instructorid)\n",
    "WHERE classid IN (21014, 21088, 21256, 21444)\n",
    "\"\"\"\n",
    "\n",
    "# Perform the query and obtain result as a Pandas data frame\n",
    "pandas_table = pd.read_sql_query(query, con=connection)\n",
    "\n",
    "# Print the data frame\n",
    "print(pandas_table)"
   ]
  },
  {
   "cell_type": "markdown",
   "metadata": {},
   "source": [
    "<div class=\"exercise\"><b>Exercise 3:</b></div> \n",
    "\n",
    "Write Python code to do the following:<br>\n",
    "\n",
    "- Define a query string that determines the number of instructors with the same first name and order the results in descending order.  Specifically, project the `instructorfirst` column and alias the number of instructors with the same name as `num_name`.  Limit the results to 10 records.\n",
    "- Execute the query and fetch the results using `pd.read_sql_query()`.\n",
    "- Print the number of records and iterate over the list to print the records.\n",
    "\n",
    "Below is the output from my solution (make sure your output matches):<br>\n",
    "<code>\n",
    "  instructorfirst  num_name\n",
    "0            Kyle         6\n",
    "1            Adam         6\n",
    "2        Danielle         4\n",
    "3          Taylor         3\n",
    "4       Stephanie         3\n",
    "5          Sandra         3\n",
    "6          Robert         3\n",
    "7         Phillip         3\n",
    "8            Lori         3\n",
    "9          Judith         3\n",
    "</code>"
   ]
  },
  {
   "cell_type": "code",
   "execution_count": 13,
   "metadata": {},
   "outputs": [
    {
     "name": "stdout",
     "output_type": "stream",
     "text": [
      "  instructorfirst  num_name\n",
      "0            Kyle         6\n",
      "1            Adam         6\n",
      "2        Danielle         4\n",
      "3          Taylor         3\n",
      "4       Stephanie         3\n",
      "5          Sandra         3\n",
      "6          Robert         3\n",
      "7         Phillip         3\n",
      "8            Lori         3\n",
      "9          Judith         3\n"
     ]
    }
   ],
   "source": [
    "# Define our query string\n",
    "query = \"\"\"\n",
    "SELECT instructorfirst, COUNT(instructorid) AS num_name\n",
    "FROM instructors\n",
    "GROUP BY instructorfirst\n",
    "ORDER BY num_name DESC\n",
    "LIMIT 10\n",
    "\"\"\"\n",
    "\n",
    "# Perform the query and obtain result as a Pandas data frame\n",
    "pandas_table = pd.read_sql_query(query, con=connection)\n",
    "\n",
    "# Print the data frame\n",
    "print(pandas_table)"
   ]
  },
  {
   "cell_type": "markdown",
   "metadata": {},
   "source": [
    "**Run the code cell below that defines a function, `first_name_list()`, that builds a string query using a variable (`name`) to retrieve a Pandas data frame containing all the instructors (first and last names) with that first name.**"
   ]
  },
  {
   "cell_type": "code",
   "execution_count": 14,
   "metadata": {},
   "outputs": [],
   "source": [
    "def first_name_list(dbcon, name):\n",
    "    \n",
    "    template = \"\"\"\n",
    "    SELECT instructorfirst, instructorlast\n",
    "    FROM instructors\n",
    "    WHERE instructorfirst = '{}'\n",
    "    \"\"\"\n",
    "    \n",
    "    query = template.format(name)\n",
    "    \n",
    "    df = pd.read_sql_query(query, con=dbcon)\n",
    "\n",
    "    return df"
   ]
  },
  {
   "cell_type": "markdown",
   "metadata": {},
   "source": [
    "**Run the code cell below that calls the `first_name_list()` function to find all the instructors with the first name Kyle.**"
   ]
  },
  {
   "cell_type": "code",
   "execution_count": 15,
   "metadata": {},
   "outputs": [
    {
     "name": "stdout",
     "output_type": "stream",
     "text": [
      "  instructorfirst instructorlast\n",
      "0            Kyle          Berry\n",
      "1            Kyle         Wagner\n",
      "2            Kyle           Pena\n",
      "3            Kyle         Rivera\n",
      "4            Kyle        Russell\n",
      "5            Kyle        Stevens\n"
     ]
    }
   ],
   "source": [
    "names = first_name_list(connection, 'Kyle')\n",
    "print(names)"
   ]
  },
  {
   "cell_type": "markdown",
   "metadata": {},
   "source": [
    "<div class=\"exercise\"><b>Exercise 4:</b></div> \n",
    "\n",
    "Write a function `deparmentsByDivision(dbcon, div)` that queries the `departments` table for the set of departments in the given division. Use Python string composition and the `format()` method for building the query. Return the result as a Pandas data frame.\n",
    "\n",
    "**Note:** In the second code cell below you will test your function by finding the departments in the Humanities division.  The output from my solution is as follows:<br>\n",
    "<code>\n",
    "      departmentname\n",
    "0  Classical Studies\n",
    "1            English\n",
    "2            History\n",
    "3    Modern Language\n",
    "4         Philosophy\n",
    "5           Religion\n",
    "</code>"
   ]
  },
  {
   "cell_type": "code",
   "execution_count": 16,
   "metadata": {},
   "outputs": [],
   "source": [
    "def departmentsByDivision(dbcon, div):\n",
    "    \n",
    "    template = \"\"\"\n",
    "    SELECT departmentname\n",
    "    FROM departments\n",
    "    WHERE division = '{}'\n",
    "    \"\"\"\n",
    "    \n",
    "    query = template.format(div)\n",
    "    \n",
    "    df = pd.read_sql_query(query, con=dbcon)\n",
    "\n",
    "    return df"
   ]
  },
  {
   "cell_type": "markdown",
   "metadata": {},
   "source": [
    "**Run the code cell below to verify your function works properly.**"
   ]
  },
  {
   "cell_type": "code",
   "execution_count": 17,
   "metadata": {},
   "outputs": [
    {
     "name": "stdout",
     "output_type": "stream",
     "text": [
      "      departmentname\n",
      "0  Classical Studies\n",
      "1            English\n",
      "2            History\n",
      "3    Modern Language\n",
      "4         Philosophy\n",
      "5           Religion\n"
     ]
    }
   ],
   "source": [
    "dept = departmentsByDivision(connection, 'Humanities')\n",
    "print(dept)"
   ]
  },
  {
   "cell_type": "markdown",
   "metadata": {},
   "source": [
    "<div class=\"exercise\"><b>Exercise 5:</b></div> \n",
    "\n",
    "Write a function `subjectCourses(dbcon, subject, low, high)` that queries the `courses` table for the courses in the given `subject` whose course number is between `low and high`, inclusive. Use Python string composition and the `format()` method for building the query. Return the result as a Pandas data frame.\n",
    "\n",
    "**Note:** In the second code cell below you will test your function by finding all the Math courses with course numbers beween 100 and 250.  The output from my solution is as follows:<br>\n",
    "<code>\n",
    "                    coursetitle  coursenum\n",
    "0        Elements of Statistics        102\n",
    "1        Essentials of Calculus        121\n",
    "2  Calculus I (Single Variable)        123\n",
    "3   Calculus II (Multivariable)        124\n",
    "4        Intro Proof Techniques        210\n",
    "5              Technical Comm I        215\n",
    "6                  Calculus III        222\n",
    "7      Linear Algebra/Equations        231\n",
    "</code>"
   ]
  },
  {
   "cell_type": "code",
   "execution_count": 18,
   "metadata": {},
   "outputs": [],
   "source": [
    "def subjectCourses(dbcon, subject, low, high):\n",
    "    \n",
    "    template = \"\"\"\n",
    "    SELECT coursetitle, coursenum\n",
    "    FROM courses\n",
    "    WHERE coursesubject = '{}' AND (coursenum BETWEEN {} AND {})\n",
    "    \"\"\"\n",
    "    \n",
    "    query = template.format(subject, low, high)\n",
    "    \n",
    "    df = pd.read_sql_query(query, con=dbcon)\n",
    "\n",
    "    return df"
   ]
  },
  {
   "cell_type": "markdown",
   "metadata": {},
   "source": [
    "**Run the code cell below to verify your function works properly.**"
   ]
  },
  {
   "cell_type": "code",
   "execution_count": 19,
   "metadata": {},
   "outputs": [
    {
     "name": "stdout",
     "output_type": "stream",
     "text": [
      "                    coursetitle  coursenum\n",
      "0        Elements of Statistics        102\n",
      "1        Essentials of Calculus        121\n",
      "2  Calculus I (Single Variable)        123\n",
      "3   Calculus II (Multivariable)        124\n",
      "4        Intro Proof Techniques        210\n",
      "5              Technical Comm I        215\n",
      "6                  Calculus III        222\n",
      "7      Linear Algebra/Equations        231\n"
     ]
    }
   ],
   "source": [
    "courses_df = subjectCourses(connection, 'MATH', 100, 250)\n",
    "print(courses_df)"
   ]
  },
  {
   "cell_type": "markdown",
   "metadata": {},
   "source": [
    "**Study and run the code cell below that creates a function `studentsByCity(dbcon, city)` that queries the `students` table to find all the students from the provided city. Note that this makes use of *binding variables*.  Furthermore, note that there is *not* quotes around `:city`, which is one of the advantages of using binding.**"
   ]
  },
  {
   "cell_type": "code",
   "execution_count": 20,
   "metadata": {},
   "outputs": [],
   "source": [
    "def studentsByCity(dbcon, city):\n",
    "    \n",
    "    pyquery = \"\"\"\n",
    "    SELECT studentfirst AS first, studentlast AS last, studentcity AS city, studentstate AS state\n",
    "    FROM students\n",
    "    WHERE studentcity = :city_in\n",
    "    \"\"\"\n",
    "    \n",
    "    prepare_stmt = sa.sql.text(pyquery)\n",
    "    bound_stmt = prepare_stmt.bindparams(city_in = city)\n",
    "    \n",
    "    print(bound_stmt)\n",
    "    \n",
    "    df = pd.read_sql_query(bound_stmt, dbcon)\n",
    "\n",
    "    return df"
   ]
  },
  {
   "cell_type": "markdown",
   "metadata": {},
   "source": [
    "**Run the code cell below that calls the `studentsByCity()` function to find all the students who are from Baltimore.**"
   ]
  },
  {
   "cell_type": "code",
   "execution_count": 21,
   "metadata": {},
   "outputs": [
    {
     "name": "stdout",
     "output_type": "stream",
     "text": [
      "\n",
      "    SELECT studentfirst AS first, studentlast AS last, studentcity AS city, studentstate AS state\n",
      "    FROM students\n",
      "    WHERE studentcity = :city_in\n",
      "    \n",
      "                    coursetitle  coursenum\n",
      "0        Elements of Statistics        102\n",
      "1        Essentials of Calculus        121\n",
      "2  Calculus I (Single Variable)        123\n",
      "3   Calculus II (Multivariable)        124\n",
      "4        Intro Proof Techniques        210\n",
      "5              Technical Comm I        215\n",
      "6                  Calculus III        222\n",
      "7      Linear Algebra/Equations        231\n"
     ]
    }
   ],
   "source": [
    "students_df = studentsByCity(connection, 'Baltimore')\n",
    "print(courses_df)"
   ]
  },
  {
   "cell_type": "markdown",
   "metadata": {},
   "source": [
    "<div class=\"exercise\"><b>Exercise 6:</b></div> \n",
    "\n",
    "Write a function `deparmentsByDivisionBind(dbcon, div)` that once again queries the `departments` table for the set of departments in the given division, but this time use **variable binding to build the query**. Return the result as a Pandas data frame.  *So this is just like Exercise 4, but this time you are using variable binding.*\n",
    "\n",
    "**Note:** In the second code cell below you will test your function by finding the departments in the Fine Arts division.  The output from my solution is as follows:<br>\n",
    "<code>\n",
    "                   departmentname\n",
    "0  Art History and Visual Culture\n",
    "1                          Cinema\n",
    "2                           Dance\n",
    "3                           Music\n",
    "4                         Theatre\n",
    "</code>"
   ]
  },
  {
   "cell_type": "code",
   "execution_count": 22,
   "metadata": {},
   "outputs": [],
   "source": [
    "def deparmentsByDivisionBind(dbcon, div):\n",
    "    \n",
    "    pyquery = \"\"\"\n",
    "    SELECT departmentname\n",
    "    FROM departments\n",
    "    WHERE division = :div_in\n",
    "    \"\"\"\n",
    "    \n",
    "    prepare_stmt = sa.sql.text(pyquery)\n",
    "    bound_stmt = prepare_stmt.bindparams(div_in = div)\n",
    "    \n",
    "    print(bound_stmt)\n",
    "    \n",
    "    df = pd.read_sql_query(bound_stmt, dbcon)\n",
    "\n",
    "    return df"
   ]
  },
  {
   "cell_type": "markdown",
   "metadata": {},
   "source": [
    "**Run the code cell below to verify your function works properly.**"
   ]
  },
  {
   "cell_type": "code",
   "execution_count": 23,
   "metadata": {},
   "outputs": [
    {
     "name": "stdout",
     "output_type": "stream",
     "text": [
      "\n",
      "    SELECT departmentname\n",
      "    FROM departments\n",
      "    WHERE division = :div_in\n",
      "    \n",
      "                   departmentname\n",
      "0  Art History and Visual Culture\n",
      "1                          Cinema\n",
      "2                           Dance\n",
      "3                           Music\n",
      "4                         Theatre\n"
     ]
    }
   ],
   "source": [
    "depts = deparmentsByDivisionBind(connection, 'Fine Arts')\n",
    "print(depts)"
   ]
  },
  {
   "cell_type": "markdown",
   "metadata": {},
   "source": [
    "<div class=\"exercise\"><b>Exercise 7:</b></div> \n",
    "\n",
    "Write a function `subjectCoursesBind(dbcon, subject, low, high)` that once again queries the `courses` table for the courses in the given `subject` whose course number is between `low and high` (inclusively), but this time use **variable binding to build the query**. Return the result as a Pandas data frame.  *So this is just like Exercise 5, but this time you are using variable binding.*\n",
    "\n",
    "**Note:** In the second code cell below you will test your function by finding all the Econ courses with course numbers beween 200 and 350.  The output from my solution is as follows:<br>\n",
    "<code>\n",
    "               coursetitle  coursenum\n",
    "0         Economic Justice        201\n",
    "1  Econ Growth/Env Sustain        202\n",
    "2  Economies in Transition        240\n",
    "3   Intermediate Macroecon        301\n",
    "4   Intermediate Microecon        302\n",
    "5       Intro Econometrics        307\n",
    "</code>"
   ]
  },
  {
   "cell_type": "code",
   "execution_count": 24,
   "metadata": {},
   "outputs": [],
   "source": [
    "def subjectCoursesBind(dbcon, subjectm, low, high):\n",
    "    \n",
    "    pyquery = \"\"\"\n",
    "    SELECT coursetitle, coursenum\n",
    "    FROM courses\n",
    "    WHERE (coursesubject = :subject_in) AND (coursenum BETWEEN :Low AND :High)\n",
    "    \"\"\"\n",
    "    \n",
    "    prepare_stmt = sa.sql.text(pyquery)\n",
    "    bound_stmt = prepare_stmt.bindparams(subject_in = subjectm, Low = low, High = high)\n",
    "    \n",
    "    print(bound_stmt)\n",
    "    \n",
    "    df = pd.read_sql_query(bound_stmt, dbcon)\n",
    "\n",
    "    return df"
   ]
  },
  {
   "cell_type": "markdown",
   "metadata": {},
   "source": [
    "**Run the code cell below to verify your function works properly.**"
   ]
  },
  {
   "cell_type": "code",
   "execution_count": 25,
   "metadata": {},
   "outputs": [
    {
     "name": "stdout",
     "output_type": "stream",
     "text": [
      "\n",
      "    SELECT coursetitle, coursenum\n",
      "    FROM courses\n",
      "    WHERE (coursesubject = :subject_in) AND (coursenum BETWEEN :Low AND :High)\n",
      "    \n",
      "               coursetitle  coursenum\n",
      "0         Economic Justice        201\n",
      "1  Econ Growth/Env Sustain        202\n",
      "2  Economies in Transition        240\n",
      "3   Intermediate Macroecon        301\n",
      "4   Intermediate Microecon        302\n",
      "5       Intro Econometrics        307\n"
     ]
    }
   ],
   "source": [
    "courses_df = subjectCoursesBind(connection, 'ECON', 200, 350)\n",
    "print(courses_df)"
   ]
  },
  {
   "cell_type": "markdown",
   "metadata": {},
   "source": [
    "<div class=\"exercise\"><b>Exercise 8:</b></div> \n",
    "\n",
    "In the code cell below, write Python code to close the database connection and delete the engine."
   ]
  },
  {
   "cell_type": "code",
   "execution_count": 26,
   "metadata": {},
   "outputs": [],
   "source": [
    "try:\n",
    "    connection.close()\n",
    "except:\n",
    "    pass\n",
    "del engine"
   ]
  },
  {
   "cell_type": "code",
   "execution_count": null,
   "metadata": {},
   "outputs": [],
   "source": []
  }
 ],
 "metadata": {
  "celltoolbar": "Raw Cell Format",
  "kernelspec": {
   "display_name": "Python 3 (ipykernel)",
   "language": "python",
   "name": "python3"
  },
  "language_info": {
   "codemirror_mode": {
    "name": "ipython",
    "version": 3
   },
   "file_extension": ".py",
   "mimetype": "text/x-python",
   "name": "python",
   "nbconvert_exporter": "python",
   "pygments_lexer": "ipython3",
   "version": "3.9.7"
  }
 },
 "nbformat": 4,
 "nbformat_minor": 2
}
